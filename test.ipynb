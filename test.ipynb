{
 "cells": [
  {
   "cell_type": "code",
   "execution_count": null,
   "metadata": {},
   "outputs": [],
   "source": [
    "import dataclasses\n",
    "import numpy as np\n",
    "from players.base import play_game\n",
    "from players.mcts import SearchParameters, PlayerMCTS\n",
    "from players.strategy import StrategyTokenProducer, Strategy\n",
    "\n",
    "np.random.seed(3)\n",
    "\n",
    "mcts_params = SearchParameters(\n",
    "    num_simulations=100\n",
    ")\n",
    "from network.checkpoints import Checkpoint\n",
    "ckpt = Checkpoint.from_json_file(\"./data/checkpoints/tr-st/4.json\")\n",
    "\n",
    "st1 = Strategy(table=Strategy.create_empty_table())\n",
    "st1.table[1, :, :] = 1\n",
    "\n",
    "st2 = Strategy(table=Strategy.create_empty_table())\n",
    "st2.table[1, :, :] = 0\n",
    "\n",
    "player_mcts = PlayerMCTS(\n",
    "    ckpt.params,\n",
    "    ckpt.model.create_caching_model(),\n",
    "    mcts_params\n",
    ")\n",
    "\n",
    "strategy = np.zeros((2, 4, 4, 2, 2), dtype=np.uint8)\n",
    "win_count = np.zeros((7), dtype=np.uint8)\n",
    "\n",
    "for i in range(1000):\n",
    "    result = play_game(\n",
    "        player1=dataclasses.replace(player_mcts, strategy=st1),\n",
    "        player2=dataclasses.replace(player_mcts, strategy=st2),\n",
    "        print_board=False,\n",
    "        token_producer=StrategyTokenProducer()\n",
    "    )\n",
    "\n",
    "    win_count[int(result.win_type.value) * result.winner + 3] += 1\n",
    "\n",
    "    strategy[0] += StrategyTokenProducer.create_strategy_table(result.tokens1)\n",
    "    strategy[1] += StrategyTokenProducer.create_strategy_table(result.tokens2)\n",
    "\n",
    "    print(i, win_count)\n",
    "    print(strategy[0, :, :, 1, 0].sum(), strategy[0, :, :, 1, 1].sum())\n",
    "    print(strategy[1, :, :, 1, 0].sum(), strategy[1, :, :, 1, 1].sum())\n"
   ]
  }
 ],
 "metadata": {
  "kernelspec": {
   "display_name": "geister12",
   "language": "python",
   "name": "python3"
  },
  "language_info": {
   "codemirror_mode": {
    "name": "ipython",
    "version": 3
   },
   "file_extension": ".py",
   "mimetype": "text/x-python",
   "name": "python",
   "nbconvert_exporter": "python",
   "pygments_lexer": "ipython3",
   "version": "3.12.4"
  }
 },
 "nbformat": 4,
 "nbformat_minor": 2
}
