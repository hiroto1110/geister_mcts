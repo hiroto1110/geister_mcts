{
 "cells": [
  {
   "cell_type": "code",
   "execution_count": null,
   "metadata": {},
   "outputs": [],
   "source": [
    "import dataclasses\n",
    "import numpy as np\n",
    "from players.base import play_game\n",
    "from players.mcts import SearchParameters, PlayerMCTS\n",
    "from players.strategy import StrategyTokenProducer, Strategy\n",
    "\n",
    "np.random.seed(3)\n",
    "\n",
    "mcts_params = SearchParameters(\n",
    "    num_simulations=100\n",
    ")\n",
    "from network.checkpoints import Checkpoint\n",
    "ckpt = Checkpoint.from_json_file(\"./data/checkpoints/tr-st/4.json\")\n",
    "\n",
    "st1 = Strategy(table=Strategy.create_empty_table())\n",
    "st1.table[1, :, :] = 1\n",
    "\n",
    "st2 = Strategy(table=Strategy.create_empty_table())\n",
    "st2.table[1, :, :] = 0\n",
    "\n",
    "player_mcts = PlayerMCTS(\n",
    "    ckpt.params,\n",
    "    ckpt.model.create_caching_model(),\n",
    "    mcts_params\n",
    ")\n",
    "\n",
    "strategy = np.zeros((2, 4, 4, 2, 2), dtype=np.uint8)\n",
    "win_count = np.zeros((7), dtype=np.uint8)\n",
    "\n",
    "for i in range(1000):\n",
    "    result = play_game(\n",
    "        player1=dataclasses.replace(player_mcts, strategy=st1),\n",
    "        player2=dataclasses.replace(player_mcts, strategy=st2),\n",
    "        print_board=False,\n",
    "        token_producer=StrategyTokenProducer()\n",
    "    )\n",
    "\n",
    "    win_count[int(result.win_type.value) * result.winner + 3] += 1\n",
    "\n",
    "    strategy[0] += StrategyTokenProducer.create_strategy_table(result.tokens1)\n",
    "    strategy[1] += StrategyTokenProducer.create_strategy_table(result.tokens2)\n",
    "\n",
    "    print(i, win_count)\n",
    "    print(strategy[0, :, :, 1, 0].sum(), strategy[0, :, :, 1, 1].sum())\n",
    "    print(strategy[1, :, :, 1, 0].sum(), strategy[1, :, :, 1, 1].sum())\n"
   ]
  },
  {
   "cell_type": "code",
   "execution_count": 2,
   "metadata": {},
   "outputs": [
    {
     "name": "stdout",
     "output_type": "stream",
     "text": [
      "{PlayerMCTSConfig(base_name='tr-st', step=4, mcts_params=SearchParametersRange(num_simulations=IntRange(min=100, max=1000), dirichlet_alpha=FloatRange(min=0.3, max=0.3), dirichlet_eps=FloatRange(min=0.25, max=0.25), n_ply_to_apply_noise=IntRange(min=20, max=20), max_duplicates=IntRange(min=3, max=3), c_init=FloatRange(min=1.25, max=1.25), c_base=IntRange(min=25, max=25), depth_search_checkmate_root=IntRange(min=7, max=7), depth_search_checkmate_leaf=IntRange(min=4, max=4), test_c=False, visibilize_node_graph=False), strategy_factory=Random(p=(0.1, 0.1, 0.8))): 1}\n"
     ]
    }
   ],
   "source": [
    "import players.mcts as mcts\n",
    "import players.strategy as strategy\n",
    "import players.config as config\n",
    "\n",
    "cfg = mcts.PlayerMCTSConfig(\n",
    "    base_name=\"tr-st\",\n",
    "    step=4,\n",
    "    mcts_params=config.SearchParametersRange(num_simulations=config.IntRange(100, 1000)),\n",
    "    strategy_factory=strategy.Random(p=(0.1, 0.1, 0.8))\n",
    ")\n",
    "\n",
    "\n",
    "d = {}\n",
    "\n",
    "d[cfg] = 1\n",
    "\n",
    "print(d)"
   ]
  },
  {
   "cell_type": "code",
   "execution_count": 1,
   "metadata": {},
   "outputs": [
    {
     "name": "stdout",
     "output_type": "stream",
     "text": [
      "RunConfig(project_name='geister-rmt', wandb_log=False, series_length=4, tokens_length=220, update_period=16, replay_buffer_size=40000, init_replay_buffer=None, agent=AgentConfig(init_params=FromCheckpoint(dir_name='./data/checkpoints/tr-st', step=4), training=TrainingConfig(batch_size=32, num_batches=16, learning_rate=0.005), match_making=MatchMakingConfig(mathod=PFSP(p=4.0), buffer_size=2048), condition_for_keeping_snapshots=ConditionForKeepingSnapshots(win_rate_threshold=None, step_period=50), mcts_params=SearchParametersRange(num_simulations=IntRange(min=10, max=40), dirichlet_alpha=FloatRange(min=0.1, max=0.4), dirichlet_eps=FloatRange(min=0.25, max=0.25), n_ply_to_apply_noise=IntRange(min=10, max=20), max_duplicates=IntRange(min=1, max=8), c_init=FloatRange(min=1.25, max=1.25), c_base=IntRange(min=10, max=50), depth_search_checkmate_root=IntRange(min=6, max=8), depth_search_checkmate_leaf=IntRange(min=3, max=5), test_c=False, visibilize_node_graph=False)), project_dir='./data/projects/run-test-1', ckpt_options=CheckpointManagerOptions(max_to_keep=50, keep_period=50))\n"
     ]
    }
   ],
   "source": [
    "from distributed.config import RunConfig\n",
    "\n",
    "c1 = RunConfig.from_json_file('./data/run_config.json')\n",
    "s = c1.to_json()\n",
    "c2 = RunConfig.from_json(s)\n",
    "\n",
    "print(c2)"
   ]
  }
 ],
 "metadata": {
  "kernelspec": {
   "display_name": "geister12",
   "language": "python",
   "name": "python3"
  },
  "language_info": {
   "codemirror_mode": {
    "name": "ipython",
    "version": 3
   },
   "file_extension": ".py",
   "mimetype": "text/x-python",
   "name": "python",
   "nbconvert_exporter": "python",
   "pygments_lexer": "ipython3",
   "version": "3.12.8"
  }
 },
 "nbformat": 4,
 "nbformat_minor": 2
}
