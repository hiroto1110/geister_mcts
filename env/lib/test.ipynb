{
 "cells": [
  {
   "cell_type": "code",
   "execution_count": null,
   "metadata": {},
   "outputs": [
    {
     "name": "stdout",
     "output_type": "stream",
     "text": [
      "|R     B         |\n",
      "|r               |\n",
      "|   b            |\n",
      "|               B|\n",
      "|                |\n",
      "|                |\n",
      "blue=3 red=3\n",
      "[1 7]\n"
     ]
    }
   ],
   "source": [
    "import numpy as np\n",
    "\n",
    "import env.state as game\n",
    "import game_analytics\n",
    "\n",
    "\n",
    "def find_closest_pieses(pieses_pos: np.ndarray, target_pos: int) -> list[int]:\n",
    "    mask = pieses_pos == game.CAPTURED\n",
    "\n",
    "    x = (pieses_pos % 6) - (target_pos % 6)\n",
    "    y = (pieses_pos // 6) - (target_pos // 6)\n",
    "\n",
    "    d = np.abs(x) + np.abs(y)\n",
    "    d[mask] = 100\n",
    "\n",
    "    closest_mask = d == np.min(d)\n",
    "    pieses_id = np.arange(len(pieses_pos))[closest_mask]\n",
    "\n",
    "    return list(pieses_id)\n",
    "\n",
    "\n",
    "def is_action_to_enter_deadlock(state: game.State, action: int, player: int) -> bool:\n",
    "    if player == 1:\n",
    "        pos_p, pos_o = state.board[game.POS_P], state.board[game.POS_O]\n",
    "        escaping_pos = game.ESCAPE_POS_P\n",
    "    else:\n",
    "        pos_p, pos_o = state.board[game.POS_O], state.board[game.POS_P]\n",
    "        escaping_pos = game.ESCAPE_POS_O\n",
    "\n",
    "    defenders_0 = find_closest_pieses(pos_o, target_pos=escaping_pos[0])\n",
    "    defenders_1 = find_closest_pieses(pos_o, target_pos=escaping_pos[1])\n",
    "    defenders = defenders_0 + defenders_1\n",
    "\n",
    "    defender_pos = pos_o[defenders]\n",
    "    defender_pos = np.stack([defender_pos] * 4, axis=0)\n",
    "    defender_pos[0] -= 6\n",
    "    defender_pos[1] -= 1\n",
    "    defender_pos[2] += 1\n",
    "    defender_pos[3] += 6\n",
    "\n",
    "    defender_pos[1, defender_pos[1] % 6 == 5] = -1\n",
    "    defender_pos[2, defender_pos[2] % 6 == 0] = -1\n",
    "\n",
    "    defender_pos = defender_pos.flatten()\n",
    "\n",
    "    p_id, d = game.action_to_id(action)\n",
    "    action_pos = pos_p[p_id] + d\n",
    "\n",
    "    if action_pos not in defender_pos:\n",
    "        return False\n",
    "\n",
    "    return True\n",
    "\n",
    "\n",
    "state = game.State(\n",
    "    board=np.array([\n",
    "        [0, 2, -1, -1, -1, -1, -1, 23],\n",
    "        [6, 13, -1, -1, -1, -1, -1, -1],\n",
    "        [0, 1, 0, 1, 0, 1, 0, 1],\n",
    "        [0, 1, 0, 1, 0, 1, 0, 1]\n",
    "    ], np.int8),\n",
    "    n_ply=30\n",
    ")\n",
    "\n",
    "print(game_analytics.state_to_str(state, predicted_color=[0.5]))\n",
    "print(find_closest_pieses(state.board[game.POS_P], target_pos=5))"
   ]
  }
 ],
 "metadata": {
  "kernelspec": {
   "display_name": "geister12",
   "language": "python",
   "name": "python3"
  },
  "language_info": {
   "codemirror_mode": {
    "name": "ipython",
    "version": 3
   },
   "file_extension": ".py",
   "mimetype": "text/x-python",
   "name": "python",
   "nbconvert_exporter": "python",
   "pygments_lexer": "ipython3",
   "version": "3.12.4"
  }
 },
 "nbformat": 4,
 "nbformat_minor": 2
}
