{
 "cells": [
  {
   "cell_type": "code",
   "execution_count": 3,
   "metadata": {},
   "outputs": [
    {
     "name": "stdout",
     "output_type": "stream",
     "text": [
      "(577536, 1329)\n"
     ]
    }
   ],
   "source": [
    "import numpy as np\n",
    "\n",
    "from batch import load\n",
    "\n",
    "batch_org = load(\"../data/replay_buffer/run-4.npy\")\n",
    "\n",
    "indices = np.arange(len(batch_org))\n",
    "\n",
    "np.random.seed(1)\n",
    "np.random.shuffle(indices)\n",
    "\n",
    "batch_org = batch_org[indices]\n",
    "print(batch_org.shape)"
   ]
  },
  {
   "cell_type": "code",
   "execution_count": 2,
   "metadata": {},
   "outputs": [],
   "source": [
    "from batch import FORMAT_X5_PVC, FORMAT_X7_ST_PVC\n",
    "\n",
    "x, _, p, v, c = FORMAT_X7_ST_PVC.get_features(batch_org)\n",
    "\n",
    "x = x[..., :5]\n",
    "\n",
    "x.shape, p.shape, v.shape, c.shape\n",
    "\n",
    "batch_new = FORMAT_X5_PVC.from_tuple(x, p, v, c)\n",
    "\n",
    "np.save(\"../data/replay_buffer/run-4.npy\", batch_new)"
   ]
  },
  {
   "cell_type": "code",
   "execution_count": 10,
   "metadata": {},
   "outputs": [
    {
     "name": "stdout",
     "output_type": "stream",
     "text": [
      "(1, 220, 5)\n",
      "save ../data/checkpoints/tr_h4_d256_n4/0.json\n"
     ]
    },
    {
     "name": "stderr",
     "output_type": "stream",
     "text": [
      "100%|██████████| 1562/1562 [01:12<00:00, 21.64it/s, loss=3.753]\n",
      "100%|██████████| 390/390 [00:07<00:00, 54.02it/s, loss=3.586]\n"
     ]
    },
    {
     "name": "stdout",
     "output_type": "stream",
     "text": [
      "Epoch: 1, Loss: (4.213, 3.581), P: (2.037, 1.559), V: (1.594, 1.522), C: (0.582, 0.500)\n",
      "save ../data/checkpoints/tr_h4_d256_n4/1.json\n"
     ]
    },
    {
     "name": "stderr",
     "output_type": "stream",
     "text": [
      "100%|██████████| 1562/1562 [01:08<00:00, 22.67it/s, loss=3.557]\n",
      "100%|██████████| 390/390 [00:05<00:00, 65.76it/s, loss=3.424]\n"
     ]
    },
    {
     "name": "stdout",
     "output_type": "stream",
     "text": [
      "Epoch: 2, Loss: (3.544, 3.388), P: (1.541, 1.424), V: (1.506, 1.486), C: (0.496, 0.478)\n",
      "save ../data/checkpoints/tr_h4_d256_n4/2.json\n"
     ]
    },
    {
     "name": "stderr",
     "output_type": "stream",
     "text": [
      "100%|██████████| 1562/1562 [01:08<00:00, 22.69it/s, loss=3.465]\n",
      "100%|██████████| 390/390 [00:05<00:00, 65.38it/s, loss=3.335]\n"
     ]
    },
    {
     "name": "stdout",
     "output_type": "stream",
     "text": [
      "Epoch: 3, Loss: (3.411, 3.302), P: (1.444, 1.362), V: (1.485, 1.470), C: (0.482, 0.470)\n",
      "save ../data/checkpoints/tr_h4_d256_n4/3.json\n"
     ]
    },
    {
     "name": "stderr",
     "output_type": "stream",
     "text": [
      "100%|██████████| 1562/1562 [01:08<00:00, 22.80it/s, loss=3.407]\n",
      "100%|██████████| 390/390 [00:05<00:00, 65.46it/s, loss=3.306]\n"
     ]
    },
    {
     "name": "stdout",
     "output_type": "stream",
     "text": [
      "Epoch: 4, Loss: (3.337, 3.249), P: (1.391, 1.324), V: (1.472, 1.459), C: (0.475, 0.466)\n",
      "save ../data/checkpoints/tr_h4_d256_n4/4.json\n"
     ]
    },
    {
     "name": "stderr",
     "output_type": "stream",
     "text": [
      "100%|██████████| 1562/1562 [01:08<00:00, 22.93it/s, loss=3.377]\n",
      "100%|██████████| 390/390 [00:06<00:00, 64.94it/s, loss=3.274]\n"
     ]
    },
    {
     "name": "stdout",
     "output_type": "stream",
     "text": [
      "Epoch: 5, Loss: (3.288, 3.219), P: (1.355, 1.300), V: (1.462, 1.457), C: (0.470, 0.462)\n",
      "save ../data/checkpoints/tr_h4_d256_n4/5.json\n"
     ]
    },
    {
     "name": "stderr",
     "output_type": "stream",
     "text": [
      "100%|██████████| 1562/1562 [01:08<00:00, 22.65it/s, loss=3.332]\n",
      "100%|██████████| 390/390 [00:05<00:00, 65.24it/s, loss=3.240]\n"
     ]
    },
    {
     "name": "stdout",
     "output_type": "stream",
     "text": [
      "Epoch: 6, Loss: (3.252, 3.188), P: (1.330, 1.280), V: (1.455, 1.448), C: (0.467, 0.460)\n",
      "save ../data/checkpoints/tr_h4_d256_n4/6.json\n"
     ]
    },
    {
     "name": "stderr",
     "output_type": "stream",
     "text": [
      "100%|██████████| 1562/1562 [01:08<00:00, 22.70it/s, loss=3.318]\n",
      "100%|██████████| 390/390 [00:05<00:00, 65.11it/s, loss=3.220]\n"
     ]
    },
    {
     "name": "stdout",
     "output_type": "stream",
     "text": [
      "Epoch: 7, Loss: (3.225, 3.164), P: (1.312, 1.264), V: (1.449, 1.443), C: (0.464, 0.457)\n",
      "save ../data/checkpoints/tr_h4_d256_n4/7.json\n"
     ]
    },
    {
     "name": "stderr",
     "output_type": "stream",
     "text": [
      "100%|██████████| 1562/1562 [01:08<00:00, 22.95it/s, loss=3.300]\n",
      "100%|██████████| 390/390 [00:05<00:00, 65.43it/s, loss=3.209]\n"
     ]
    },
    {
     "name": "stdout",
     "output_type": "stream",
     "text": [
      "Epoch: 8, Loss: (3.203, 3.152), P: (1.297, 1.255), V: (1.445, 1.442), C: (0.461, 0.455)\n",
      "save ../data/checkpoints/tr_h4_d256_n4/8.json\n"
     ]
    },
    {
     "data": {
      "text/plain": [
       "'\\nst\\nEpoch: 1, Loss: (3.809, 3.415), P: (1.710, 1.431), V: (1.563, 1.495), C: (0.536, 0.488)\\nEpoch: 2, Loss: (3.412, 3.295), P: (1.428, 1.342), V: (1.497, 1.479), C: (0.487, 0.474)\\nEpoch: 3, Loss: (3.316, 3.239), P: (1.362, 1.302), V: (1.477, 1.466), C: (0.477, 0.470)\\nEpoch: 4, Loss: (3.263, 3.197), P: (1.326, 1.277), V: (1.465, 1.456), C: (0.471, 0.465)\\n\\nnot-st\\nEpoch: 1, Loss: (3.812, 3.409), P: (1.713, 1.426), V: (1.562, 1.496), C: (0.536, 0.487)\\nEpoch: 2, Loss: (3.402, 3.287), P: (1.422, 1.338), V: (1.497, 1.473), C: (0.484, 0.476)\\n'"
      ]
     },
     "execution_count": 10,
     "metadata": {},
     "output_type": "execute_result"
    }
   ],
   "source": [
    "import itertools\n",
    "\n",
    "import jax\n",
    "from jax import random\n",
    "import optax\n",
    "from network.transformer import TransformerConfig, TrainStateTransformer\n",
    "from network.train import fit, MinibatchProducerSimple\n",
    "from network.checkpoints import Checkpoint, CheckpointManager\n",
    "from batch import FORMAT_X5_PVC\n",
    "\n",
    "# jax.config.update(\"jax_debug_nans\", True)\n",
    "\n",
    "batch = batch_org[:500000]\n",
    "\n",
    "n_train = int(batch.shape[0] * 0.8)\n",
    "train_batch = batch[:n_train]\n",
    "test_batch = batch[n_train:]\n",
    "\n",
    "minibatch_producer = MinibatchProducerSimple(batch_size=256)\n",
    "\n",
    "heads = 4,\n",
    "dims = 256, \n",
    "num_layers = 4,\n",
    "\n",
    "for h, d, n in itertools.product(heads, dims, num_layers):\n",
    "    model_config = TransformerConfig(\n",
    "        num_heads=h,\n",
    "        embed_dim=d,\n",
    "        num_hidden_layers=n,\n",
    "    )\n",
    "    model = model_config.create_model()\n",
    "\n",
    "    init_x, _, _, _ = FORMAT_X5_PVC.get_features(train_batch[:1])\n",
    "    print(init_x.shape)\n",
    "\n",
    "    variables = model.init(random.PRNGKey(0), init_x)\n",
    "    state = TrainStateTransformer.create(\n",
    "        apply_fn=model.apply,\n",
    "        params=variables['params'],\n",
    "        tx=optax.adam(learning_rate=0.001),\n",
    "        dropout_rng=random.PRNGKey(0),\n",
    "        epoch=0,\n",
    "    )\n",
    "\n",
    "    ckpt_dir = f'../data/checkpoints/tr_h{h}_d{d}_n{n}'\n",
    "\n",
    "    checkpoint_manager = CheckpointManager(ckpt_dir)\n",
    "    checkpoint_manager.save(Checkpoint(state.epoch, model_config, state.params))\n",
    "\n",
    "    state = fit(\n",
    "        state, model_config, checkpoint_manager,\n",
    "        train_batches=train_batch,\n",
    "        test_batches=test_batch,\n",
    "        minibatch_producer=minibatch_producer,\n",
    "        epochs=8,\n",
    "        log_wandb=False\n",
    "    )\n",
    "\n",
    "\"\"\"\n",
    "st\n",
    "Epoch: 1, Loss: (3.809, 3.415), P: (1.710, 1.431), V: (1.563, 1.495), C: (0.536, 0.488)\n",
    "Epoch: 2, Loss: (3.412, 3.295), P: (1.428, 1.342), V: (1.497, 1.479), C: (0.487, 0.474)\n",
    "Epoch: 3, Loss: (3.316, 3.239), P: (1.362, 1.302), V: (1.477, 1.466), C: (0.477, 0.470)\n",
    "Epoch: 4, Loss: (3.263, 3.197), P: (1.326, 1.277), V: (1.465, 1.456), C: (0.471, 0.465)\n",
    "\n",
    "not-st\n",
    "Epoch: 1, Loss: (3.812, 3.409), P: (1.713, 1.426), V: (1.562, 1.496), C: (0.536, 0.487)\n",
    "Epoch: 2, Loss: (3.402, 3.287), P: (1.422, 1.338), V: (1.497, 1.473), C: (0.484, 0.476)\n",
    "\"\"\""
   ]
  }
 ],
 "metadata": {
  "kernelspec": {
   "display_name": "geister12",
   "language": "python",
   "name": "python3"
  },
  "language_info": {
   "codemirror_mode": {
    "name": "ipython",
    "version": 3
   },
   "file_extension": ".py",
   "mimetype": "text/x-python",
   "name": "python",
   "nbconvert_exporter": "python",
   "pygments_lexer": "ipython3",
   "version": "3.12.4"
  }
 },
 "nbformat": 4,
 "nbformat_minor": 2
}
