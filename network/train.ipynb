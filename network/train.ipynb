{
 "cells": [
  {
   "cell_type": "code",
   "execution_count": 1,
   "metadata": {},
   "outputs": [
    {
     "name": "stdout",
     "output_type": "stream",
     "text": [
      "(1268736, 1329)\n"
     ]
    },
    {
     "name": "stderr",
     "output_type": "stream",
     "text": [
      "100%|██████████| 1268736/1268736 [09:53<00:00, 2138.63it/s]\n"
     ]
    }
   ],
   "source": [
    "import numpy as np\n",
    "from tqdm import tqdm\n",
    "\n",
    "from batch import load, get_tokens, get_color, get_action, get_reward, get_seq_len\n",
    "\n",
    "import numpy as np\n",
    "\n",
    "def create_pos_history_from_tokens(tokens: np.ndarray) -> tuple[np.ndarray, np.ndarray]:\n",
    "    pos_history = np.zeros((tokens.shape[0], 16), dtype=np.uint8)\n",
    "    action_history = np.zeros((tokens.shape[0]), dtype=np.uint8)\n",
    "\n",
    "    if tokens[0, 3] < 3:\n",
    "        invert = False\n",
    "        pos = np.array([1, 2, 3, 4, 7, 8, 9, 10, 25, 26, 27, 28, 31, 32, 33, 34])\n",
    "    else:\n",
    "        invert = True\n",
    "        pos = 35 - np.array([25, 26, 27, 28, 31, 32, 33, 34, 1, 2, 3, 4, 7, 8, 9, 10])\n",
    "\n",
    "    for i, (c, id, x, y, t) in enumerate(tokens):\n",
    "        if np.all(tokens[i] == 0):\n",
    "            break\n",
    "\n",
    "        if x < 6 and y < 6:\n",
    "            pos[id] = x + 6 * y\n",
    "            if invert:\n",
    "                pos[id] = 35 - pos[id]\n",
    "        else:\n",
    "            pos[id] = 36\n",
    "\n",
    "        pos_history[t] = pos\n",
    "\n",
    "        if t > 1 and x < 6 and y < 6 and (tokens[i - 1, 4] != tokens[i, 4]):\n",
    "            d = int(pos_history[t, id]) - int(pos_history[t - 1, id])\n",
    "\n",
    "            if d == -6:\n",
    "                d_i = 0\n",
    "            elif d == -1:\n",
    "                d_i = 1\n",
    "            elif d == 1:\n",
    "                d_i = 2\n",
    "            elif d == 6:\n",
    "                d_i = 3\n",
    "            else:\n",
    "                assert False, f\"{(c, id, x, y, t)}, {pos_history[t, id]}, {pos_history[t - 1, id]}\"\n",
    "\n",
    "            action_history[t - 1] = pos_history[t - 1, id] * 4 + d_i\n",
    "    \n",
    "    return pos_history, action_history\n",
    "\n",
    "batch = load(\"../data/replay_buffer/run-7.npy\")\n",
    "batch = batch.reshape(-1, batch.shape[-1])\n",
    "print(batch.shape)\n",
    "\n",
    "seq_len = get_seq_len(batch.shape[-1])\n",
    "\n",
    "batch_new = np.zeros((batch.shape[0], batch.shape[1] + 16 * seq_len), dtype=np.uint8)\n",
    "\n",
    "for i, batch_i in tqdm(list(enumerate(batch))):\n",
    "    t = get_tokens(batch_i)\n",
    "    c = get_color(batch_i)\n",
    "    a = get_action(batch_i)\n",
    "    r = get_reward(batch_i)\n",
    "\n",
    "    p, a = create_pos_history_from_tokens(t)\n",
    "\n",
    "    if t[0, 3] > 3:\n",
    "        mask = np.all(t == 0, axis=-1)\n",
    "\n",
    "        t[t[:, 2] != 6, 2] = 5 - t[t[:, 2] != 6, 2]\n",
    "        t[t[:, 3] != 6, 3] = 5 - t[t[:, 3] != 6, 3]\n",
    "\n",
    "        t[mask] = 0\n",
    "\n",
    "        c = c[::-1]\n",
    "\n",
    "    a = a[t[:, 4]]\n",
    "    p = p[t[:, 4]]\n",
    "\n",
    "    p = p.reshape(seq_len * p.shape[-1])\n",
    "    t = t.reshape(seq_len * t.shape[-1])\n",
    "\n",
    "    batch_new[i] = np.concatenate(\n",
    "        [p, t, a, np.array([r]), c],\n",
    "        axis=-1,\n",
    "        dtype=np.uint8\n",
    "    )\n",
    "\n",
    "np.save(\"../data/replay_buffer/run-7-cnn.npy\", batch_new)"
   ]
  },
  {
   "cell_type": "code",
   "execution_count": null,
   "metadata": {},
   "outputs": [],
   "source": [
    "\n",
    "from jax import numpy as jnp\n",
    "from network.transformer import create_concat_input\n",
    "from batch import get_tokens, get_posses, get_color\n",
    "\n",
    "\n",
    "def pos_to_board(\n",
    "    pos1: jnp.ndarray,\n",
    "    pos2: jnp.ndarray,\n",
    "    color1: jnp.ndarray,\n",
    "    color2: jnp.ndarray\n",
    ") -> jnp.ndarray:\n",
    "    batch_shape = pos1.shape[:-1]\n",
    "\n",
    "    pos1 = pos1.reshape(-1, 8)\n",
    "    pos2 = pos2.reshape(-1, 8)\n",
    "    color1 = color1.reshape(-1, 8)\n",
    "    color2 = color2.reshape(-1, 8)\n",
    "\n",
    "    def scan_f(x_i) -> jnp.ndarray:\n",
    "        p1, p2, c1, c2 = [x_i[i*8: (i+1)*8] for i in range(4)]\n",
    "\n",
    "        board = jnp.zeros((37, 4), dtype=jnp.uint8)\n",
    "        board = board.at[p1, 0].set(c1)\n",
    "        board = board.at[p1, 1].set(255 - c1)\n",
    "        board = board.at[p2, 2].set(c2)\n",
    "        board = board.at[p2, 3].set(255 - c2)\n",
    "\n",
    "        return None, board\n",
    "\n",
    "    xs = jnp.concatenate([pos1, pos2, color1, color2], axis=-1, dtype=jnp.uint8)\n",
    "\n",
    "    _, board = jnp.apply_along_axis(scan_f, axis=-1, arr=xs)\n",
    "\n",
    "    board = board[..., :36, :].reshape((*batch_shape, 6, 6, 4))\n",
    "\n",
    "    return board\n",
    "\n",
    "j = 3\n",
    "\n",
    "x = get_tokens(batch_org[j: j+10])\n",
    "pos = get_posses(batch_org[j: j+10])\n",
    "col = get_color(batch_org[j: j+10])\n",
    "concat = create_concat_input(x, pos, col)\n",
    "\n",
    "color_1 = jnp.stack([x[..., :8, 0]]*x.shape[-2], axis=-2) * 200 + 20\n",
    "color_2 = jnp.stack([col]*x.shape[-2], axis=-2) * 200 + 20\n",
    "board = pos_to_board(pos[..., :8], pos[..., 8:], color_1, color_2)\n",
    "# board = board.astype(jnp.float16) / 255.0\n",
    "\n",
    "for j in range(10):\n",
    "    for i in range(20, 21):\n",
    "        print(i, x[j, i, :], concat[j, i])\n",
    "        print()\n",
    "        print(pos[j, i, :8], pos[j, i, 8:])\n",
    "        print(color_1[j, i], color_2[j, i])\n",
    "        print()\n",
    "        print(board[j, i, :, :, 0])\n",
    "        print()\n",
    "        print(board[j, i, :, :, 1])\n",
    "        print()\n",
    "        print(board[j, i, :, :, 2])\n",
    "        print()\n",
    "        print(board[j, i, :, :, 3])\n",
    "        print()\n",
    "        print()\n"
   ]
  },
  {
   "cell_type": "code",
   "execution_count": 1,
   "metadata": {},
   "outputs": [],
   "source": [
    "import numpy as np\n",
    "\n",
    "from batch import load, astuple, get_reward\n",
    "\n",
    "batch_org = load(\"../data/replay_buffer/run-7-cnn.npy\")\n",
    "\n",
    "batch_org = batch_org.reshape(-1, batch_org.shape[-1])\n",
    "\n",
    "indices = np.arange(len(batch_org))\n",
    "\n",
    "np.random.seed(1)\n",
    "np.random.shuffle(indices)\n",
    "\n",
    "batch_org = batch_org[indices]"
   ]
  },
  {
   "cell_type": "code",
   "execution_count": 2,
   "metadata": {},
   "outputs": [
    {
     "name": "stderr",
     "output_type": "stream",
     "text": [
      "2024-07-29 17:54:07.341113: W external/xla/xla/service/gpu/nvptx_compiler.cc:765] The NVIDIA driver's CUDA version is 12.2 which is older than the ptxas CUDA version (12.5.82). Because the driver is older than the ptxas version, XLA is disabling parallel compilation, which may slow down compilation. You should update your NVIDIA driver or use the NVIDIA-provided CUDA forward compatibility packages.\n",
      "100%|██████████| 2500/2500 [01:07<00:00, 36.78it/s, loss=3.543]\n",
      "100%|██████████| 625/625 [00:07<00:00, 78.19it/s, loss=4.163] \n"
     ]
    },
    {
     "name": "stdout",
     "output_type": "stream",
     "text": [
      "Epoch: 1, Loss: (4.543, 3.778), P: (2.148, 1.441), V: (1.696, 1.646), C: (0.699, 0.691)\n"
     ]
    },
    {
     "name": "stderr",
     "output_type": "stream",
     "text": [
      "100%|██████████| 2500/2500 [00:50<00:00, 49.22it/s, loss=3.305]\n",
      "100%|██████████| 625/625 [00:04<00:00, 125.27it/s, loss=3.872]\n"
     ]
    },
    {
     "name": "stdout",
     "output_type": "stream",
     "text": [
      "Epoch: 2, Loss: (3.661, 3.540), P: (1.372, 1.255), V: (1.599, 1.604), C: (0.690, 0.681)\n"
     ]
    },
    {
     "name": "stderr",
     "output_type": "stream",
     "text": [
      "100%|██████████| 2500/2500 [00:50<00:00, 49.28it/s, loss=3.152]\n",
      "100%|██████████| 625/625 [00:04<00:00, 125.13it/s, loss=3.661]\n"
     ]
    },
    {
     "name": "stdout",
     "output_type": "stream",
     "text": [
      "Epoch: 3, Loss: (3.443, 3.310), P: (1.251, 1.185), V: (1.573, 1.587), C: (0.619, 0.538)\n"
     ]
    },
    {
     "name": "stderr",
     "output_type": "stream",
     "text": [
      "100%|██████████| 2500/2500 [00:50<00:00, 49.38it/s, loss=2.985]\n",
      "100%|██████████| 625/625 [00:05<00:00, 123.35it/s, loss=3.540]\n"
     ]
    },
    {
     "name": "stdout",
     "output_type": "stream",
     "text": [
      "Epoch: 4, Loss: (3.273, 3.226), P: (1.183, 1.136), V: (1.552, 1.573), C: (0.538, 0.517)\n"
     ]
    },
    {
     "name": "stderr",
     "output_type": "stream",
     "text": [
      "100%|██████████| 2500/2500 [00:51<00:00, 48.48it/s, loss=2.904]\n",
      "100%|██████████| 625/625 [00:05<00:00, 118.65it/s, loss=3.487]\n"
     ]
    },
    {
     "name": "stdout",
     "output_type": "stream",
     "text": [
      "Epoch: 5, Loss: (3.186, 3.166), P: (1.134, 1.103), V: (1.536, 1.560), C: (0.516, 0.503)\n"
     ]
    },
    {
     "name": "stderr",
     "output_type": "stream",
     "text": [
      "100%|██████████| 2500/2500 [00:52<00:00, 47.37it/s, loss=2.834]\n",
      "100%|██████████| 625/625 [00:05<00:00, 116.93it/s, loss=3.460]\n"
     ]
    },
    {
     "name": "stdout",
     "output_type": "stream",
     "text": [
      "Epoch: 6, Loss: (3.128, 3.125), P: (1.100, 1.082), V: (1.524, 1.550), C: (0.505, 0.492)\n"
     ]
    },
    {
     "name": "stderr",
     "output_type": "stream",
     "text": [
      "100%|██████████| 2500/2500 [00:53<00:00, 47.08it/s, loss=2.809]\n",
      "100%|██████████| 625/625 [00:05<00:00, 117.36it/s, loss=3.438]\n"
     ]
    },
    {
     "name": "stdout",
     "output_type": "stream",
     "text": [
      "Epoch: 7, Loss: (3.086, 3.101), P: (1.074, 1.064), V: (1.514, 1.547), C: (0.498, 0.489)\n"
     ]
    },
    {
     "name": "stderr",
     "output_type": "stream",
     "text": [
      "100%|██████████| 2500/2500 [00:53<00:00, 46.57it/s, loss=2.768]\n",
      "100%|██████████| 625/625 [00:05<00:00, 119.72it/s, loss=3.403]\n"
     ]
    },
    {
     "name": "stdout",
     "output_type": "stream",
     "text": [
      "Epoch: 8, Loss: (3.050, 3.071), P: (1.054, 1.048), V: (1.506, 1.541), C: (0.490, 0.482)\n"
     ]
    },
    {
     "data": {
      "text/plain": [
       "'\\nEpoch: 1, Loss: (4.711, 4.095), P: (2.292, 1.753), V: (1.720, 1.660), C: (0.699, 0.683)\\nEpoch: 2, Loss: (3.987, 3.741), P: (1.717, 1.567), V: (1.639, 1.617), C: (0.631, 0.557)\\nEpoch: 3, Loss: (3.738, 3.603), P: (1.583, 1.479), V: (1.609, 1.601), C: (0.546, 0.524)\\nEpoch: 4, Loss: (3.619, 3.527), P: (1.510, 1.426), V: (1.589, 1.588), C: (0.520, 0.513)\\nEpoch: 5, Loss: (3.547, 3.460), P: (1.463, 1.390), V: (1.576, 1.575), C: (0.508, 0.495)\\nEpoch: 6, Loss: (3.491, 3.429), P: (1.428, 1.367), V: (1.563, 1.568), C: (0.500, 0.494)\\nEpoch: 7, Loss: (3.450, 3.396), P: (1.401, 1.344), V: (1.554, 1.563), C: (0.494, 0.488)\\nEpoch: 8, Loss: (3.416, 3.371), P: (1.380, 1.328), V: (1.546, 1.558), C: (0.491, 0.485)\\n'"
      ]
     },
     "execution_count": 2,
     "metadata": {},
     "output_type": "execute_result"
    }
   ],
   "source": [
    "import itertools\n",
    "\n",
    "import jax\n",
    "from jax import random, numpy as jnp\n",
    "import optax\n",
    "from network.cnn import CNNConfig\n",
    "from network.transformer import TransformerConfig, TrainStateTransformer, create_concat_input\n",
    "from network.train import fit, MinibatchProducerSimple\n",
    "from network.checkpoints import Checkpoint, CheckpointManager\n",
    "from batch import get_tokens, get_posses, get_color, get_reward\n",
    "\n",
    "# jax.config.update(\"jax_debug_nans\", True)\n",
    "\n",
    "batch = batch_org[:200000]\n",
    "\n",
    "# r = get_reward(batch)\n",
    "# batch = batch[get_reward(batch) != 3]\n",
    "\n",
    "n_train = int(batch.shape[0] * 0.8)\n",
    "train_batch = batch[:n_train]\n",
    "test_batch = batch[n_train:]\n",
    "\n",
    "minibatch_producer = MinibatchProducerSimple(batch_size=16)\n",
    "\n",
    "heads = 4,\n",
    "dims = 256,\n",
    "num_layers = 4,\n",
    "\n",
    "for h, d, n in itertools.product(heads, dims, num_layers):\n",
    "    model_config = TransformerConfig(\n",
    "        num_heads=h,\n",
    "        embed_dim=d,\n",
    "        num_hidden_layers=n,\n",
    "        cnn_config=CNNConfig(num_filters=[128, 128]),\n",
    "    )\n",
    "    model = model_config.create_model()\n",
    "\n",
    "    init_x = get_tokens(train_batch[:1])\n",
    "    init_pos = get_posses(train_batch[:1])\n",
    "    init_color = get_color(train_batch[:1])\n",
    "    init_concat = create_concat_input(init_x, init_pos, init_color)\n",
    "\n",
    "    # variables = model.init(random.PRNGKey(0), init_x)\n",
    "    variables = model.init(random.PRNGKey(0), init_x, pos=init_pos, concat=init_concat)\n",
    "    state = TrainStateTransformer.create(\n",
    "        apply_fn=model.apply,\n",
    "        params=variables['params'],\n",
    "        tx=optax.adam(learning_rate=0.0005),\n",
    "        dropout_rng=random.PRNGKey(0),\n",
    "        epoch=0,\n",
    "    )\n",
    "\n",
    "    ckpt_dir = f'./data/checkpoints/tr'\n",
    "\n",
    "    checkpoint_manager = CheckpointManager(ckpt_dir)\n",
    "    checkpoint_manager.save(Checkpoint(state.epoch, model_config, state.params))\n",
    "\n",
    "    state = fit(\n",
    "        state, model_config, checkpoint_manager,\n",
    "        train_batches=train_batch,\n",
    "        test_batches=test_batch,\n",
    "        minibatch_producer=minibatch_producer,\n",
    "        epochs=8,\n",
    "        log_wandb=False\n",
    "    )\n",
    "\n",
    "\"\"\"\n",
    "Epoch: 1, Loss: (4.711, 4.095), P: (2.292, 1.753), V: (1.720, 1.660), C: (0.699, 0.683)\n",
    "Epoch: 2, Loss: (3.987, 3.741), P: (1.717, 1.567), V: (1.639, 1.617), C: (0.631, 0.557)\n",
    "Epoch: 3, Loss: (3.738, 3.603), P: (1.583, 1.479), V: (1.609, 1.601), C: (0.546, 0.524)\n",
    "Epoch: 4, Loss: (3.619, 3.527), P: (1.510, 1.426), V: (1.589, 1.588), C: (0.520, 0.513)\n",
    "Epoch: 5, Loss: (3.547, 3.460), P: (1.463, 1.390), V: (1.576, 1.575), C: (0.508, 0.495)\n",
    "Epoch: 6, Loss: (3.491, 3.429), P: (1.428, 1.367), V: (1.563, 1.568), C: (0.500, 0.494)\n",
    "Epoch: 7, Loss: (3.450, 3.396), P: (1.401, 1.344), V: (1.554, 1.563), C: (0.494, 0.488)\n",
    "Epoch: 8, Loss: (3.416, 3.371), P: (1.380, 1.328), V: (1.546, 1.558), C: (0.491, 0.485)\n",
    "\"\"\""
   ]
  },
  {
   "cell_type": "code",
   "execution_count": 7,
   "metadata": {},
   "outputs": [
    {
     "name": "stdout",
     "output_type": "stream",
     "text": [
      "0.313, 0.082, 0.172, 0.006, 0.251, 0.037, 0.139\n",
      "0.312, 0.080, 0.172, 0.006, 0.252, 0.038, 0.141\n",
      "0.310, 0.080, 0.172, 0.006, 0.253, 0.038, 0.141\n",
      "0.307, 0.081, 0.171, 0.006, 0.255, 0.038, 0.141\n",
      "0.305, 0.080, 0.172, 0.006, 0.257, 0.038, 0.141\n",
      "0.304, 0.081, 0.172, 0.006, 0.257, 0.038, 0.142\n",
      "0.304, 0.081, 0.171, 0.006, 0.258, 0.039, 0.142\n",
      "0.303, 0.080, 0.171, 0.006, 0.258, 0.039, 0.142\n",
      "0.260, 0.093, 0.178, 0.007, 0.268, 0.042, 0.152\n",
      "0.289, 0.090, 0.179, 0.008, 0.251, 0.038, 0.145\n",
      "0.291, 0.088, 0.169, 0.009, 0.280, 0.037, 0.126\n",
      "0.298, 0.089, 0.180, 0.009, 0.259, 0.035, 0.130\n",
      "0.303, 0.092, 0.169, 0.010, 0.261, 0.039, 0.125\n",
      "0.302, 0.090, 0.175, 0.010, 0.271, 0.033, 0.118\n",
      "0.303, 0.093, 0.173, 0.012, 0.261, 0.040, 0.118\n",
      "0.307, 0.090, 0.172, 0.010, 0.273, 0.031, 0.117\n",
      "0.304, 0.092, 0.176, 0.011, 0.263, 0.037, 0.118\n",
      "0.305, 0.091, 0.171, 0.012, 0.274, 0.031, 0.115\n",
      "0.305, 0.094, 0.178, 0.011, 0.255, 0.039, 0.117\n",
      "0.306, 0.091, 0.172, 0.012, 0.276, 0.031, 0.113\n",
      "0.295, 0.098, 0.151, 0.008, 0.289, 0.037, 0.123\n",
      "0.312, 0.081, 0.195, 0.007, 0.278, 0.025, 0.102\n",
      "0.377, 0.070, 0.151, 0.005, 0.223, 0.053, 0.122\n",
      "0.294, 0.093, 0.130, 0.008, 0.278, 0.047, 0.149\n",
      "0.349, 0.063, 0.140, 0.004, 0.206, 0.063, 0.175\n",
      "0.270, 0.092, 0.129, 0.007, 0.252, 0.055, 0.196\n",
      "0.270, 0.123, 0.153, 0.004, 0.178, 0.047, 0.226\n",
      "0.274, 0.090, 0.146, 0.003, 0.175, 0.046, 0.267\n",
      "0.291, 0.083, 0.100, 0.001, 0.132, 0.095, 0.297\n",
      "0.281, 0.119, 0.135, 0.004, 0.144, 0.055, 0.262\n",
      "0.362, 0.062, 0.110, 0.001, 0.124, 0.062, 0.279\n",
      "0.336, 0.074, 0.114, 0.002, 0.182, 0.049, 0.243\n",
      "0.289, 0.080, 0.135, 0.002, 0.153, 0.047, 0.294\n",
      "0.327, 0.066, 0.082, 0.002, 0.127, 0.051, 0.346\n",
      "0.284, 0.085, 0.126, 0.003, 0.134, 0.044, 0.323\n",
      "0.316, 0.068, 0.089, 0.002, 0.125, 0.049, 0.351\n",
      "0.457, 0.048, 0.081, 0.002, 0.154, 0.051, 0.206\n",
      "0.276, 0.077, 0.125, 0.002, 0.143, 0.039, 0.336\n",
      "0.386, 0.062, 0.121, 0.003, 0.120, 0.038, 0.270\n",
      "0.224, 0.075, 0.168, 0.003, 0.126, 0.043, 0.361\n",
      "0.200, 0.062, 0.192, 0.003, 0.116, 0.043, 0.384\n",
      "0.281, 0.080, 0.159, 0.004, 0.122, 0.046, 0.309\n",
      "0.201, 0.075, 0.149, 0.002, 0.129, 0.040, 0.405\n",
      "0.296, 0.090, 0.154, 0.003, 0.119, 0.040, 0.298\n",
      "0.225, 0.081, 0.149, 0.001, 0.146, 0.042, 0.356\n",
      "0.303, 0.097, 0.157, 0.003, 0.142, 0.037, 0.261\n",
      "0.187, 0.084, 0.202, 0.002, 0.127, 0.040, 0.359\n",
      "0.225, 0.107, 0.222, 0.002, 0.123, 0.034, 0.288\n",
      "0.266, 0.111, 0.185, 0.003, 0.106, 0.030, 0.298\n",
      "0.203, 0.103, 0.185, 0.002, 0.110, 0.039, 0.358\n",
      "0.186, 0.112, 0.197, 0.002, 0.119, 0.033, 0.352\n",
      "0.289, 0.117, 0.147, 0.002, 0.105, 0.037, 0.303\n",
      "0.192, 0.127, 0.189, 0.002, 0.084, 0.036, 0.371\n",
      "0.280, 0.129, 0.173, 0.003, 0.102, 0.039, 0.273\n",
      "0.211, 0.129, 0.197, 0.002, 0.090, 0.039, 0.333\n",
      "0.271, 0.133, 0.176, 0.003, 0.101, 0.038, 0.278\n",
      "0.210, 0.127, 0.186, 0.003, 0.093, 0.039, 0.343\n",
      "0.265, 0.135, 0.182, 0.004, 0.105, 0.040, 0.269\n",
      "0.222, 0.130, 0.172, 0.003, 0.099, 0.042, 0.332\n",
      "0.263, 0.138, 0.178, 0.004, 0.106, 0.038, 0.274\n",
      "0.219, 0.127, 0.176, 0.003, 0.100, 0.042, 0.332\n",
      "0.262, 0.138, 0.180, 0.004, 0.108, 0.039, 0.270\n",
      "0.222, 0.129, 0.184, 0.003, 0.100, 0.042, 0.320\n",
      "0.260, 0.139, 0.180, 0.005, 0.105, 0.038, 0.273\n",
      "0.224, 0.129, 0.178, 0.003, 0.103, 0.042, 0.321\n",
      "0.259, 0.141, 0.181, 0.005, 0.107, 0.038, 0.268\n",
      "0.226, 0.131, 0.174, 0.003, 0.102, 0.043, 0.319\n",
      "0.257, 0.147, 0.177, 0.005, 0.105, 0.037, 0.272\n",
      "0.224, 0.130, 0.178, 0.004, 0.105, 0.042, 0.318\n",
      "0.255, 0.145, 0.179, 0.005, 0.108, 0.038, 0.269\n",
      "0.226, 0.129, 0.186, 0.003, 0.103, 0.042, 0.311\n",
      "0.251, 0.150, 0.177, 0.005, 0.106, 0.037, 0.274\n",
      "0.225, 0.132, 0.180, 0.004, 0.105, 0.042, 0.313\n",
      "0.252, 0.149, 0.178, 0.005, 0.107, 0.038, 0.270\n",
      "0.226, 0.133, 0.177, 0.004, 0.105, 0.043, 0.313\n",
      "0.248, 0.153, 0.175, 0.005, 0.104, 0.037, 0.277\n",
      "0.271, 0.116, 0.202, 0.003, 0.102, 0.041, 0.264\n",
      "0.310, 0.118, 0.199, 0.003, 0.107, 0.032, 0.231\n",
      "0.010, 0.049, 0.029, 0.000, 0.000, 0.000, 0.912\n",
      "0.010, 0.049, 0.029, 0.000, 0.000, 0.000, 0.912\n",
      "0.010, 0.049, 0.029, 0.000, 0.000, 0.000, 0.912\n",
      "0.010, 0.049, 0.029, 0.000, 0.000, 0.000, 0.912\n",
      "0.010, 0.049, 0.029, 0.000, 0.000, 0.000, 0.912\n",
      "0.010, 0.049, 0.029, 0.000, 0.000, 0.000, 0.912\n",
      "0.010, 0.049, 0.028, 0.000, 0.000, 0.000, 0.912\n",
      "0.010, 0.049, 0.028, 0.000, 0.000, 0.000, 0.912\n",
      "0.010, 0.049, 0.028, 0.000, 0.000, 0.000, 0.912\n",
      "0.010, 0.049, 0.028, 0.000, 0.000, 0.000, 0.912\n",
      "0.010, 0.049, 0.028, 0.000, 0.000, 0.000, 0.912\n",
      "0.010, 0.049, 0.028, 0.000, 0.000, 0.000, 0.912\n",
      "0.010, 0.049, 0.028, 0.000, 0.000, 0.000, 0.912\n",
      "0.010, 0.049, 0.028, 0.000, 0.000, 0.000, 0.912\n",
      "0.010, 0.049, 0.028, 0.000, 0.000, 0.000, 0.912\n",
      "0.010, 0.049, 0.028, 0.000, 0.000, 0.000, 0.912\n",
      "0.010, 0.049, 0.028, 0.000, 0.000, 0.000, 0.912\n",
      "0.010, 0.049, 0.028, 0.000, 0.000, 0.000, 0.912\n",
      "0.010, 0.049, 0.028, 0.000, 0.000, 0.000, 0.912\n",
      "0.010, 0.049, 0.028, 0.000, 0.000, 0.000, 0.912\n",
      "0.010, 0.049, 0.028, 0.000, 0.000, 0.000, 0.912\n",
      "0.010, 0.049, 0.028, 0.000, 0.000, 0.000, 0.912\n"
     ]
    }
   ],
   "source": [
    "import flax.linen\n",
    "import jax\n",
    "from jax import random, numpy as jnp\n",
    "import flax\n",
    "from network.cnn import pos_to_board\n",
    "from network.transformer import TransformerConfig, TrainStateTransformer, create_concat_input\n",
    "from network.train import fit, MinibatchProducerSimple\n",
    "from network.checkpoints import Checkpoint, CheckpointManager\n",
    "from batch import get_tokens, get_posses, get_color\n",
    "\n",
    "from env.state import State\n",
    "from game_analytics import state_to_str\n",
    "\n",
    "ckpt = Checkpoint.from_json_file(\"data/checkpoints/tr/4.json\")\n",
    "\n",
    "model = ckpt.model.create_model()\n",
    "\n",
    "tokens = get_tokens(train_batch[:1])\n",
    "\n",
    "p, v, c = model.apply({\"params\": ckpt.params}, tokens)\n",
    "\n",
    "for i in range(100):\n",
    "    print(\", \".join([f\"{f:.3f}\" for f in flax.linen.softmax(v[0, i])]))"
   ]
  },
  {
   "cell_type": "code",
   "execution_count": 42,
   "metadata": {},
   "outputs": [
    {
     "name": "stdout",
     "output_type": "stream",
     "text": [
      "0.081, 0.027, 0.067, 0.004, 0.745, 0.042, 0.034\n",
      "|   \u001b[31mR\u001b[0m  \u001b[31mR\u001b[0m  \u001b[31mR\u001b[0m      |\n",
      "|   \u001b[34mB\u001b[0m  \u001b[34mB\u001b[0m  \u001b[34mB\u001b[0m      |\n",
      "|                |\n",
      "|      \u001b[31mR\u001b[0m  5      |\n",
      "|      5         |\n",
      "|   5  5  5     \u001b[34mB\u001b[0m|\n",
      "blue=0 red=0\n"
     ]
    }
   ],
   "source": [
    "import flax.linen\n",
    "import jax\n",
    "from jax import random, numpy as jnp\n",
    "import flax\n",
    "from network.cnn import pos_to_board\n",
    "from network.transformer import TransformerConfig, TrainStateTransformer, create_concat_input\n",
    "from network.train import fit, MinibatchProducerSimple\n",
    "from network.checkpoints import Checkpoint, CheckpointManager\n",
    "from batch import get_tokens, get_posses, get_color\n",
    "\n",
    "from env.state import State\n",
    "from game_analytics import state_to_str\n",
    "\n",
    "ckpt = Checkpoint.from_json_file(\"data/checkpoints/tr/4.json\")\n",
    "\n",
    "model = ckpt.model.cnn_config.create_model()\n",
    "\n",
    "pos1 = jnp.array([[1, 2, 3, 20, 7, 8, 9, 35]], dtype=jnp.uint8)\n",
    "col1 = jnp.array([[0, 0, 0, 0, 1, 1, 1, 1]], dtype=jnp.uint8) * 255\n",
    "\n",
    "pos2 = jnp.array([[21, 33, 32, 31, 26, 36, 36, 36]], dtype=jnp.uint8)\n",
    "col2 = jnp.array([[255, 128, 128, 128, 128, 128, 128, 128]], dtype=jnp.uint8)\n",
    "\n",
    "concat = jnp.array([[0, 0, 0, 0, 0, 0, 0, 0, 1, 0]], dtype=jnp.uint8)\n",
    "\n",
    "n_cap_r = 3\n",
    "n_cap_b = 0\n",
    "\n",
    "concat = concat.at[n_cap_r].set(1)\n",
    "concat = concat.at[4 + n_cap_b].set(1)\n",
    "\n",
    "board = pos_to_board(pos1, pos2, col1, col2)\n",
    "\n",
    "p, v = model.apply({\"params\": ckpt.params[\"cnn\"]}, board, concat=concat)\n",
    "\n",
    "print(\", \".join([f\"{f:.3f}\" for f in flax.linen.softmax(v[0])]))\n",
    "\n",
    "# 0.221, 0.082, 0.315, 0.015, 0.231, 0.062, 0.074\n",
    "# 0.333, 0.098, 0.185, 0.011, 0.208, 0.060, 0.105\n",
    "\n",
    "print(state_to_str(State(jnp.array([pos1[0], pos2[0], col1[0] // 255, jnp.array([3]*8)]), n_ply=10), predicted_color=[0.5]*8, colored=True))"
   ]
  }
 ],
 "metadata": {
  "kernelspec": {
   "display_name": "geister12",
   "language": "python",
   "name": "python3"
  },
  "language_info": {
   "codemirror_mode": {
    "name": "ipython",
    "version": 3
   },
   "file_extension": ".py",
   "mimetype": "text/x-python",
   "name": "python",
   "nbconvert_exporter": "python",
   "pygments_lexer": "ipython3",
   "version": "3.12.4"
  }
 },
 "nbformat": 4,
 "nbformat_minor": 2
}
