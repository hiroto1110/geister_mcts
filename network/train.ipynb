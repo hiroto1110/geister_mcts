{
 "cells": [
  {
   "cell_type": "code",
   "execution_count": 1,
   "metadata": {},
   "outputs": [
    {
     "name": "stdout",
     "output_type": "stream",
     "text": [
      "(577536, 1329)\n",
      "not enough length 197\n",
      "not enough length 198\n",
      "not enough length 198\n",
      "not enough length 197\n",
      "not enough length 198\n",
      "not enough length 197\n",
      "not enough length 198\n",
      "(577536, 1769)\n"
     ]
    }
   ],
   "source": [
    "import numpy as np\n",
    "\n",
    "from batch import FORMAT_XARC, load\n",
    "from players.base import play_game\n",
    "from players.simple import PlayerTracing\n",
    "from players.strategy import StrategyTokenProducer\n",
    "import  env.state as game\n",
    "\n",
    "def create_pos_history_from_tokens(tokens: np.ndarray, color_o: np.ndarray) -> tuple[np.ndarray, np.ndarray]:\n",
    "    pos_history = np.zeros((tokens.shape[0], 16), dtype=np.uint8)\n",
    "    action_history = np.zeros((tokens.shape[0]), dtype=np.uint8)\n",
    "\n",
    "    if tokens[0, game.Token.Y] < 3:\n",
    "        pos = np.array([1, 2, 3, 4, 7, 8, 9, 10, 25, 26, 27, 28, 31, 32, 33, 34])\n",
    "    else:\n",
    "        pos = np.array([1, 2, 3, 4, 7, 8, 9, 10, 25, 26, 27, 28, 31, 32, 33, 34])\n",
    "\n",
    "        empty_mask = np.any(tokens != 0, axis=1)\n",
    "\n",
    "        id_p_mask = empty_mask * (tokens[:, game.Token.ID] < 8)\n",
    "        id_o_mask = empty_mask * (tokens[:, game.Token.ID] >= 8)\n",
    "\n",
    "        tokens[id_p_mask, game.Token.ID] = 7 - tokens[id_p_mask, game.Token.ID]\n",
    "        tokens[id_o_mask, game.Token.ID] = 7 - (tokens[id_o_mask, game.Token.ID] - 8) + 8\n",
    "\n",
    "        mask = (tokens[:, game.Token.X] != 6) * (tokens[:, game.Token.Y] != 6) * empty_mask\n",
    "\n",
    "        tokens[mask, game.Token.X] = 5 - tokens[mask, game.Token.X]\n",
    "        tokens[mask, game.Token.Y] = 5 - tokens[mask, game.Token.Y]\n",
    "\n",
    "        tokens[:8] = tokens[:8][::-1]\n",
    "\n",
    "    diff_mask = pos[:8] != (tokens[:8, game.Token.X] + tokens[:8, game.Token.Y] * 6)\n",
    "\n",
    "    if np.any(diff_mask):\n",
    "        assert np.sum(diff_mask) == 1, f\"{pos[:8]}, {tokens[:8, game.Token.X]}, {tokens[:8, game.Token.Y]}\"\n",
    "\n",
    "        diff_id = np.arange(8)[diff_mask][0]\n",
    "\n",
    "        tokens[9:] = tokens[8:-1]\n",
    "        tokens[9:, game.Token.T] += 1\n",
    "\n",
    "        tokens[8] = tokens[diff_id]\n",
    "        tokens[8, game.Token.T] = 1\n",
    "\n",
    "    for i, (c, id, x, y, t) in enumerate(tokens):\n",
    "        if np.all(tokens[i] == 0):\n",
    "            break\n",
    "\n",
    "        if x < 6 and y < 6:\n",
    "            pos[id] = x + 6 * y\n",
    "        else:\n",
    "            pos[id] = 36\n",
    "\n",
    "        pos_history[t] = pos\n",
    "\n",
    "        if t > 0 and x < 6 and y < 6 and (tokens[i - 1, game.Token.T] != tokens[i, game.Token.T]):\n",
    "            d = int(pos_history[t, id]) - int(pos_history[t - 1, id])\n",
    "\n",
    "            if d == -6:\n",
    "                d_i = 0\n",
    "            elif d == -1:\n",
    "                d_i = 1\n",
    "            elif d == 1:\n",
    "                d_i = 2\n",
    "            elif d == 6:\n",
    "                d_i = 3\n",
    "            else:\n",
    "                assert False, f\"{(c, id, x, y, t)}, {pos_history[t, id]}, {pos_history[t - 1, id]}\"\n",
    "\n",
    "            if id < 8:\n",
    "                action_history[t - 1] = id * 4 + d_i\n",
    "            else:\n",
    "                action_history[t - 1] = (15 - id) * 4 + 3 - d_i\n",
    "            \n",
    "            last_t = t\n",
    "\n",
    "    if tokens[8, game.Token.ID] < 8:\n",
    "        return action_history[:last_t], tokens[:8, game.Token.COLOR], color_o[::-1]\n",
    "    else:\n",
    "        return action_history[:last_t], color_o, tokens[:8, game.Token.COLOR]\n",
    "\n",
    "batch = load(\"../data/replay_buffer/run-4.npy\")\n",
    "batch = batch.reshape(-1, batch.shape[-1])\n",
    "print(batch.shape)\n",
    "\n",
    "\n",
    "import multiprocessing\n",
    "\n",
    "def func(b):\n",
    "    t, _, r, c = FORMAT_XARC.astuple(b)\n",
    "    action_history, color_p, color_o = create_pos_history_from_tokens(t, c)\n",
    "    #  print(action_history, len(action_history))\n",
    "    player = PlayerTracing(action_history)\n",
    "    result = play_game(\n",
    "        player, player,\n",
    "        color1=color_p,\n",
    "        color2=color_o,\n",
    "        token_producer=StrategyTokenProducer(),\n",
    "        print_board=False,\n",
    "        game_length=199\n",
    "    )\n",
    "\n",
    "    return result.create_sample_p(token_length=220)\n",
    "\n",
    "if True:\n",
    "    pool = multiprocessing.Pool(20)\n",
    "    results = pool.map(func, iterable=batch[:])\n",
    "else:\n",
    "    results = []\n",
    "    for i in range(400):\n",
    "        # print(i)\n",
    "        results.append(func(batch[i]))\n",
    "\n",
    "batch_dst = np.stack(results, axis=0)\n",
    "print(batch_dst.shape)\n",
    "\n",
    "np.save(\"../data/replay_buffer/run-4-st.npy\", batch_dst)"
   ]
  },
  {
   "cell_type": "code",
   "execution_count": 1,
   "metadata": {},
   "outputs": [
    {
     "name": "stdout",
     "output_type": "stream",
     "text": [
      "(577536, 1833)\n"
     ]
    }
   ],
   "source": [
    "import numpy as np\n",
    "\n",
    "from batch import load\n",
    "\n",
    "batch_org = load(\"../data/replay_buffer/run-4-st.npy\")\n",
    "\n",
    "batch_org = batch_org.reshape(-1, batch_org.shape[-1])\n",
    "\n",
    "indices = np.arange(len(batch_org))\n",
    "\n",
    "np.random.seed(1)\n",
    "np.random.shuffle(indices)\n",
    "\n",
    "batch_org = batch_org[indices]\n",
    "print(batch_org.shape)"
   ]
  },
  {
   "cell_type": "code",
   "execution_count": 3,
   "metadata": {},
   "outputs": [
    {
     "name": "stdout",
     "output_type": "stream",
     "text": [
      "(577536, 220, 7)\n"
     ]
    },
    {
     "data": {
      "text/plain": [
       "(array([125364278,   1310138,    383504]),\n",
       " array([125366215,   1178321,    513384]))"
      ]
     },
     "execution_count": 3,
     "metadata": {},
     "output_type": "execute_result"
    }
   ],
   "source": [
    "import numpy as np\n",
    "from batch import FORMAT_X7_ST_PVC\n",
    "\n",
    "x, _, _, _, _ = FORMAT_X7_ST_PVC.astuple(batch_org)\n",
    "\n",
    "print(x.shape)\n",
    "\n",
    "np.bincount(x[..., 5].flatten()), np.bincount(x[..., 6].flatten())"
   ]
  },
  {
   "cell_type": "code",
   "execution_count": 3,
   "metadata": {},
   "outputs": [
    {
     "name": "stdout",
     "output_type": "stream",
     "text": [
      "(1, 220, 7)\n",
      "save ../data/checkpoints/tr-st-test/0.json\n"
     ]
    },
    {
     "name": "stderr",
     "output_type": "stream",
     "text": [
      "100%|██████████| 390/390 [01:20<00:00,  4.82it/s, loss=4.395]\n",
      "100%|██████████| 97/97 [00:07<00:00, 13.50it/s, loss=4.205]\n"
     ]
    },
    {
     "name": "stdout",
     "output_type": "stream",
     "text": [
      "Epoch: 1, Loss: (5.047, 4.228), P: (2.670, 2.020), V: (1.675, 1.548), C: (0.703, 0.660)\n",
      "save ../data/checkpoints/tr-st-test/1.json\n"
     ]
    },
    {
     "name": "stderr",
     "output_type": "stream",
     "text": [
      "  8%|▊         | 30/390 [00:05<01:07,  5.32it/s, loss=4.315]\n"
     ]
    },
    {
     "ename": "KeyboardInterrupt",
     "evalue": "",
     "output_type": "error",
     "traceback": [
      "\u001b[0;31m---------------------------------------------------------------------------\u001b[0m",
      "\u001b[0;31mKeyboardInterrupt\u001b[0m                         Traceback (most recent call last)",
      "Cell \u001b[0;32mIn[3], line 51\u001b[0m\n\u001b[1;32m     48\u001b[0m     checkpoint_manager \u001b[38;5;241m=\u001b[39m CheckpointManager(ckpt_dir)\n\u001b[1;32m     49\u001b[0m     checkpoint_manager\u001b[38;5;241m.\u001b[39msave(Checkpoint(state\u001b[38;5;241m.\u001b[39mepoch, model_config, state\u001b[38;5;241m.\u001b[39mparams))\n\u001b[0;32m---> 51\u001b[0m     state \u001b[38;5;241m=\u001b[39m \u001b[43mfit\u001b[49m\u001b[43m(\u001b[49m\n\u001b[1;32m     52\u001b[0m \u001b[43m        \u001b[49m\u001b[43mstate\u001b[49m\u001b[43m,\u001b[49m\u001b[43m \u001b[49m\u001b[43mmodel_config\u001b[49m\u001b[43m,\u001b[49m\u001b[43m \u001b[49m\u001b[43mcheckpoint_manager\u001b[49m\u001b[43m,\u001b[49m\n\u001b[1;32m     53\u001b[0m \u001b[43m        \u001b[49m\u001b[43mtrain_batches\u001b[49m\u001b[38;5;241;43m=\u001b[39;49m\u001b[43mtrain_batch\u001b[49m\u001b[43m,\u001b[49m\n\u001b[1;32m     54\u001b[0m \u001b[43m        \u001b[49m\u001b[43mtest_batches\u001b[49m\u001b[38;5;241;43m=\u001b[39;49m\u001b[43mtest_batch\u001b[49m\u001b[43m,\u001b[49m\n\u001b[1;32m     55\u001b[0m \u001b[43m        \u001b[49m\u001b[43mminibatch_producer\u001b[49m\u001b[38;5;241;43m=\u001b[39;49m\u001b[43mminibatch_producer\u001b[49m\u001b[43m,\u001b[49m\n\u001b[1;32m     56\u001b[0m \u001b[43m        \u001b[49m\u001b[43mepochs\u001b[49m\u001b[38;5;241;43m=\u001b[39;49m\u001b[38;5;241;43m4\u001b[39;49m\u001b[43m,\u001b[49m\n\u001b[1;32m     57\u001b[0m \u001b[43m        \u001b[49m\u001b[43mlog_wandb\u001b[49m\u001b[38;5;241;43m=\u001b[39;49m\u001b[38;5;28;43;01mFalse\u001b[39;49;00m\n\u001b[1;32m     58\u001b[0m \u001b[43m    \u001b[49m\u001b[43m)\u001b[49m\n\u001b[1;32m     60\u001b[0m \u001b[38;5;124;03m\"\"\"\u001b[39;00m\n\u001b[1;32m     61\u001b[0m \u001b[38;5;124;03mst\u001b[39;00m\n\u001b[1;32m     62\u001b[0m \u001b[38;5;124;03mEpoch: 1, Loss: (3.809, 3.415), P: (1.710, 1.431), V: (1.563, 1.495), C: (0.536, 0.488)\u001b[39;00m\n\u001b[0;32m   (...)\u001b[0m\n\u001b[1;32m     69\u001b[0m \u001b[38;5;124;03mEpoch: 2, Loss: (3.402, 3.287), P: (1.422, 1.338), V: (1.497, 1.473), C: (0.484, 0.476)\u001b[39;00m\n\u001b[1;32m     70\u001b[0m \u001b[38;5;124;03m\"\"\"\u001b[39;00m\n",
      "File \u001b[0;32m~/geister_mcts/network/train.py:91\u001b[0m, in \u001b[0;36mfit\u001b[0;34m(state, model_config, checkpoint_manager, train_batches, test_batches, minibatch_producer, epochs, log_wandb)\u001b[0m\n\u001b[1;32m     88\u001b[0m \u001b[38;5;28;01mfor\u001b[39;00m epoch \u001b[38;5;129;01min\u001b[39;00m \u001b[38;5;28mrange\u001b[39m(state\u001b[38;5;241m.\u001b[39mepoch \u001b[38;5;241m+\u001b[39m \u001b[38;5;241m1\u001b[39m, state\u001b[38;5;241m.\u001b[39mepoch \u001b[38;5;241m+\u001b[39m \u001b[38;5;241m1\u001b[39m \u001b[38;5;241m+\u001b[39m epochs):\n\u001b[1;32m     89\u001b[0m     start \u001b[38;5;241m=\u001b[39m time\u001b[38;5;241m.\u001b[39mperf_counter()\n\u001b[0;32m---> 91\u001b[0m     state, losses_train \u001b[38;5;241m=\u001b[39m \u001b[43mtrain_epoch\u001b[49m\u001b[43m(\u001b[49m\n\u001b[1;32m     92\u001b[0m \u001b[43m        \u001b[49m\u001b[43mstate\u001b[49m\u001b[43m,\u001b[49m\u001b[43m \u001b[49m\u001b[43mtrain_batches\u001b[49m\u001b[43m,\u001b[49m\u001b[43m \u001b[49m\u001b[43mminibatch_producer\u001b[49m\u001b[43m,\u001b[49m\u001b[43m \u001b[49m\u001b[38;5;28;43meval\u001b[39;49m\u001b[38;5;241;43m=\u001b[39;49m\u001b[38;5;28;43;01mFalse\u001b[39;49;00m\n\u001b[1;32m     93\u001b[0m \u001b[43m    \u001b[49m\u001b[43m)\u001b[49m\n\u001b[1;32m     94\u001b[0m     _, losses_test \u001b[38;5;241m=\u001b[39m train_epoch(\n\u001b[1;32m     95\u001b[0m         state, test_batches, minibatch_producer, \u001b[38;5;28meval\u001b[39m\u001b[38;5;241m=\u001b[39m\u001b[38;5;28;01mTrue\u001b[39;00m\n\u001b[1;32m     96\u001b[0m     )\n\u001b[1;32m     98\u001b[0m     elapsed_time \u001b[38;5;241m=\u001b[39m time\u001b[38;5;241m.\u001b[39mperf_counter() \u001b[38;5;241m-\u001b[39m start\n",
      "File \u001b[0;32m~/geister_mcts/network/train.py:69\u001b[0m, in \u001b[0;36mtrain_epoch\u001b[0;34m(state, batches, minibatch_producer, eval)\u001b[0m\n\u001b[1;32m     66\u001b[0m         indices \u001b[38;5;241m=\u001b[39m minibatch_producer\u001b[38;5;241m.\u001b[39mnext_minibatch(i)\n\u001b[1;32m     68\u001b[0m         state, loss, losses \u001b[38;5;241m=\u001b[39m state\u001b[38;5;241m.\u001b[39mtrain_step(batches[indices], \u001b[38;5;28meval\u001b[39m)\n\u001b[0;32m---> 69\u001b[0m         losses_history\u001b[38;5;241m.\u001b[39mappend(\u001b[43mjax\u001b[49m\u001b[38;5;241;43m.\u001b[39;49m\u001b[43mdevice_get\u001b[49m\u001b[43m(\u001b[49m\u001b[43mlosses\u001b[49m\u001b[43m)\u001b[49m)\n\u001b[1;32m     71\u001b[0m         pbar\u001b[38;5;241m.\u001b[39mset_postfix({\u001b[38;5;124m\"\u001b[39m\u001b[38;5;124mloss\u001b[39m\u001b[38;5;124m\"\u001b[39m: \u001b[38;5;124mf\u001b[39m\u001b[38;5;124m\"\u001b[39m\u001b[38;5;132;01m{\u001b[39;00m\u001b[38;5;28mfloat\u001b[39m(loss)\u001b[38;5;132;01m:\u001b[39;00m\u001b[38;5;124m.3f\u001b[39m\u001b[38;5;132;01m}\u001b[39;00m\u001b[38;5;124m\"\u001b[39m})\n\u001b[1;32m     73\u001b[0m \u001b[38;5;28;01mreturn\u001b[39;00m state, jnp\u001b[38;5;241m.\u001b[39mmean(jnp\u001b[38;5;241m.\u001b[39marray(losses_history), axis\u001b[38;5;241m=\u001b[39m\u001b[38;5;241m0\u001b[39m)\n",
      "File \u001b[0;32m~/miniconda3/envs/jax_py3_12/lib/python3.12/site-packages/jax/_src/api.py:2698\u001b[0m, in \u001b[0;36mdevice_get\u001b[0;34m(x)\u001b[0m\n\u001b[1;32m   2696\u001b[0m   \u001b[38;5;28;01mexcept\u001b[39;00m \u001b[38;5;167;01mAttributeError\u001b[39;00m:\n\u001b[1;32m   2697\u001b[0m     \u001b[38;5;28;01mpass\u001b[39;00m\n\u001b[0;32m-> 2698\u001b[0m \u001b[38;5;28;01mreturn\u001b[39;00m \u001b[43mtree_map\u001b[49m\u001b[43m(\u001b[49m\u001b[43m_device_get\u001b[49m\u001b[43m,\u001b[49m\u001b[43m \u001b[49m\u001b[43mx\u001b[49m\u001b[43m)\u001b[49m\n",
      "File \u001b[0;32m~/miniconda3/envs/jax_py3_12/lib/python3.12/site-packages/jax/_src/tree_util.py:321\u001b[0m, in \u001b[0;36mtree_map\u001b[0;34m(f, tree, is_leaf, *rest)\u001b[0m\n\u001b[1;32m    319\u001b[0m leaves, treedef \u001b[38;5;241m=\u001b[39m tree_flatten(tree, is_leaf)\n\u001b[1;32m    320\u001b[0m all_leaves \u001b[38;5;241m=\u001b[39m [leaves] \u001b[38;5;241m+\u001b[39m [treedef\u001b[38;5;241m.\u001b[39mflatten_up_to(r) \u001b[38;5;28;01mfor\u001b[39;00m r \u001b[38;5;129;01min\u001b[39;00m rest]\n\u001b[0;32m--> 321\u001b[0m \u001b[38;5;28;01mreturn\u001b[39;00m \u001b[43mtreedef\u001b[49m\u001b[38;5;241;43m.\u001b[39;49m\u001b[43munflatten\u001b[49m\u001b[43m(\u001b[49m\u001b[43mf\u001b[49m\u001b[43m(\u001b[49m\u001b[38;5;241;43m*\u001b[39;49m\u001b[43mxs\u001b[49m\u001b[43m)\u001b[49m\u001b[43m \u001b[49m\u001b[38;5;28;43;01mfor\u001b[39;49;00m\u001b[43m \u001b[49m\u001b[43mxs\u001b[49m\u001b[43m \u001b[49m\u001b[38;5;129;43;01min\u001b[39;49;00m\u001b[43m \u001b[49m\u001b[38;5;28;43mzip\u001b[39;49m\u001b[43m(\u001b[49m\u001b[38;5;241;43m*\u001b[39;49m\u001b[43mall_leaves\u001b[49m\u001b[43m)\u001b[49m\u001b[43m)\u001b[49m\n",
      "File \u001b[0;32m~/miniconda3/envs/jax_py3_12/lib/python3.12/site-packages/jax/_src/tree_util.py:321\u001b[0m, in \u001b[0;36m<genexpr>\u001b[0;34m(.0)\u001b[0m\n\u001b[1;32m    319\u001b[0m leaves, treedef \u001b[38;5;241m=\u001b[39m tree_flatten(tree, is_leaf)\n\u001b[1;32m    320\u001b[0m all_leaves \u001b[38;5;241m=\u001b[39m [leaves] \u001b[38;5;241m+\u001b[39m [treedef\u001b[38;5;241m.\u001b[39mflatten_up_to(r) \u001b[38;5;28;01mfor\u001b[39;00m r \u001b[38;5;129;01min\u001b[39;00m rest]\n\u001b[0;32m--> 321\u001b[0m \u001b[38;5;28;01mreturn\u001b[39;00m treedef\u001b[38;5;241m.\u001b[39munflatten(\u001b[43mf\u001b[49m\u001b[43m(\u001b[49m\u001b[38;5;241;43m*\u001b[39;49m\u001b[43mxs\u001b[49m\u001b[43m)\u001b[49m \u001b[38;5;28;01mfor\u001b[39;00m xs \u001b[38;5;129;01min\u001b[39;00m \u001b[38;5;28mzip\u001b[39m(\u001b[38;5;241m*\u001b[39mall_leaves))\n",
      "File \u001b[0;32m~/miniconda3/envs/jax_py3_12/lib/python3.12/site-packages/jax/_src/api.py:2659\u001b[0m, in \u001b[0;36m_device_get\u001b[0;34m(x)\u001b[0m\n\u001b[1;32m   2657\u001b[0m   \u001b[38;5;28;01mreturn\u001b[39;00m x\n\u001b[1;32m   2658\u001b[0m \u001b[38;5;28;01melse\u001b[39;00m:\n\u001b[0;32m-> 2659\u001b[0m   \u001b[38;5;28;01mreturn\u001b[39;00m \u001b[43mtoarray\u001b[49m\u001b[43m(\u001b[49m\u001b[43m)\u001b[49m\n",
      "File \u001b[0;32m~/miniconda3/envs/jax_py3_12/lib/python3.12/site-packages/jax/_src/array.py:407\u001b[0m, in \u001b[0;36mArrayImpl.__array__\u001b[0;34m(self, dtype, context, copy)\u001b[0m\n\u001b[1;32m    404\u001b[0m \u001b[38;5;28;01mdef\u001b[39;00m \u001b[38;5;21m__array__\u001b[39m(\u001b[38;5;28mself\u001b[39m, dtype\u001b[38;5;241m=\u001b[39m\u001b[38;5;28;01mNone\u001b[39;00m, context\u001b[38;5;241m=\u001b[39m\u001b[38;5;28;01mNone\u001b[39;00m, copy\u001b[38;5;241m=\u001b[39m\u001b[38;5;28;01mNone\u001b[39;00m):\n\u001b[1;32m    405\u001b[0m   \u001b[38;5;66;03m# copy argument is supported by np.asarray starting in numpy 2.0\u001b[39;00m\n\u001b[1;32m    406\u001b[0m   kwds \u001b[38;5;241m=\u001b[39m {} \u001b[38;5;28;01mif\u001b[39;00m copy \u001b[38;5;129;01mis\u001b[39;00m \u001b[38;5;28;01mNone\u001b[39;00m \u001b[38;5;28;01melse\u001b[39;00m {\u001b[38;5;124m'\u001b[39m\u001b[38;5;124mcopy\u001b[39m\u001b[38;5;124m'\u001b[39m: copy}\n\u001b[0;32m--> 407\u001b[0m   \u001b[38;5;28;01mreturn\u001b[39;00m np\u001b[38;5;241m.\u001b[39masarray(\u001b[38;5;28;43mself\u001b[39;49m\u001b[38;5;241;43m.\u001b[39;49m\u001b[43m_value\u001b[49m, dtype\u001b[38;5;241m=\u001b[39mdtype, \u001b[38;5;241m*\u001b[39m\u001b[38;5;241m*\u001b[39mkwds)\n",
      "File \u001b[0;32m~/miniconda3/envs/jax_py3_12/lib/python3.12/site-packages/jax/_src/profiler.py:335\u001b[0m, in \u001b[0;36mannotate_function.<locals>.wrapper\u001b[0;34m(*args, **kwargs)\u001b[0m\n\u001b[1;32m    332\u001b[0m \u001b[38;5;129m@wraps\u001b[39m(func)\n\u001b[1;32m    333\u001b[0m \u001b[38;5;28;01mdef\u001b[39;00m \u001b[38;5;21mwrapper\u001b[39m(\u001b[38;5;241m*\u001b[39margs, \u001b[38;5;241m*\u001b[39m\u001b[38;5;241m*\u001b[39mkwargs):\n\u001b[1;32m    334\u001b[0m   \u001b[38;5;28;01mwith\u001b[39;00m TraceAnnotation(name, \u001b[38;5;241m*\u001b[39m\u001b[38;5;241m*\u001b[39mdecorator_kwargs):\n\u001b[0;32m--> 335\u001b[0m     \u001b[38;5;28;01mreturn\u001b[39;00m \u001b[43mfunc\u001b[49m\u001b[43m(\u001b[49m\u001b[38;5;241;43m*\u001b[39;49m\u001b[43margs\u001b[49m\u001b[43m,\u001b[49m\u001b[43m \u001b[49m\u001b[38;5;241;43m*\u001b[39;49m\u001b[38;5;241;43m*\u001b[39;49m\u001b[43mkwargs\u001b[49m\u001b[43m)\u001b[49m\n\u001b[1;32m    336\u001b[0m   \u001b[38;5;28;01mreturn\u001b[39;00m wrapper\n",
      "File \u001b[0;32m~/miniconda3/envs/jax_py3_12/lib/python3.12/site-packages/jax/_src/array.py:621\u001b[0m, in \u001b[0;36mArrayImpl._value\u001b[0;34m(self)\u001b[0m\n\u001b[1;32m    619\u001b[0m \u001b[38;5;28;01mif\u001b[39;00m \u001b[38;5;28mself\u001b[39m\u001b[38;5;241m.\u001b[39m_npy_value \u001b[38;5;129;01mis\u001b[39;00m \u001b[38;5;28;01mNone\u001b[39;00m:\n\u001b[1;32m    620\u001b[0m   \u001b[38;5;28;01mif\u001b[39;00m \u001b[38;5;28mself\u001b[39m\u001b[38;5;241m.\u001b[39mis_fully_replicated:\n\u001b[0;32m--> 621\u001b[0m     \u001b[38;5;28mself\u001b[39m\u001b[38;5;241m.\u001b[39m_npy_value \u001b[38;5;241m=\u001b[39m \u001b[38;5;28;43mself\u001b[39;49m\u001b[38;5;241;43m.\u001b[39;49m\u001b[43m_single_device_array_to_np_array\u001b[49m\u001b[43m(\u001b[49m\u001b[43m)\u001b[49m  \u001b[38;5;66;03m# type: ignore\u001b[39;00m\n\u001b[1;32m    622\u001b[0m     \u001b[38;5;28mself\u001b[39m\u001b[38;5;241m.\u001b[39m_npy_value\u001b[38;5;241m.\u001b[39mflags\u001b[38;5;241m.\u001b[39mwriteable \u001b[38;5;241m=\u001b[39m \u001b[38;5;28;01mFalse\u001b[39;00m\n\u001b[1;32m    623\u001b[0m     \u001b[38;5;28;01mreturn\u001b[39;00m cast(np\u001b[38;5;241m.\u001b[39mndarray, \u001b[38;5;28mself\u001b[39m\u001b[38;5;241m.\u001b[39m_npy_value)\n",
      "\u001b[0;31mKeyboardInterrupt\u001b[0m: "
     ]
    }
   ],
   "source": [
    "import itertools\n",
    "\n",
    "import jax\n",
    "from jax import random\n",
    "import optax\n",
    "from network.transformer import TransformerConfig, TrainStateTransformer\n",
    "from network.train import fit, MinibatchProducerSimple\n",
    "from network.checkpoints import Checkpoint, CheckpointManager\n",
    "from batch import FORMAT_X7_ST_PVC\n",
    "\n",
    "# jax.config.update(\"jax_debug_nans\", True)\n",
    "\n",
    "batch = batch_org[:500000]\n",
    "\n",
    "n_train = int(batch.shape[0] * 0.8)\n",
    "train_batch = batch[:n_train]\n",
    "test_batch = batch[n_train:]\n",
    "\n",
    "minibatch_producer = MinibatchProducerSimple(batch_size=1024)\n",
    "\n",
    "heads = 4,\n",
    "dims = 256, \n",
    "num_layers = 4,\n",
    "\n",
    "for h, d, n in itertools.product(heads, dims, num_layers):\n",
    "    model_config = TransformerConfig(\n",
    "        num_heads=h,\n",
    "        embed_dim=d,\n",
    "        num_hidden_layers=n,\n",
    "        strategy=True,\n",
    "    )\n",
    "    model = model_config.create_model()\n",
    "\n",
    "    init_x, init_st, _, _, _ = FORMAT_X7_ST_PVC.get_features(train_batch[:1])\n",
    "    print(init_x.shape)\n",
    "\n",
    "    variables = model.init(random.PRNGKey(0), init_x, init_st)\n",
    "    state = TrainStateTransformer.create(\n",
    "        apply_fn=model.apply,\n",
    "        params=variables['params'],\n",
    "        tx=optax.adam(learning_rate=0.0005),\n",
    "        dropout_rng=random.PRNGKey(0),\n",
    "        epoch=0,\n",
    "    )\n",
    "\n",
    "    ckpt_dir = f'../data/checkpoints/tr-st-test'\n",
    "\n",
    "    checkpoint_manager = CheckpointManager(ckpt_dir)\n",
    "    checkpoint_manager.save(Checkpoint(state.epoch, model_config, state.params))\n",
    "\n",
    "    state = fit(\n",
    "        state, model_config, checkpoint_manager,\n",
    "        train_batches=train_batch,\n",
    "        test_batches=test_batch,\n",
    "        minibatch_producer=minibatch_producer,\n",
    "        epochs=4,\n",
    "        log_wandb=False\n",
    "    )\n",
    "\n",
    "\"\"\"\n",
    "st\n",
    "Epoch: 1, Loss: (3.809, 3.415), P: (1.710, 1.431), V: (1.563, 1.495), C: (0.536, 0.488)\n",
    "Epoch: 2, Loss: (3.412, 3.295), P: (1.428, 1.342), V: (1.497, 1.479), C: (0.487, 0.474)\n",
    "Epoch: 3, Loss: (3.316, 3.239), P: (1.362, 1.302), V: (1.477, 1.466), C: (0.477, 0.470)\n",
    "Epoch: 4, Loss: (3.263, 3.197), P: (1.326, 1.277), V: (1.465, 1.456), C: (0.471, 0.465)\n",
    "\n",
    "not-st\n",
    "Epoch: 1, Loss: (3.812, 3.409), P: (1.713, 1.426), V: (1.562, 1.496), C: (0.536, 0.487)\n",
    "Epoch: 2, Loss: (3.402, 3.287), P: (1.422, 1.338), V: (1.497, 1.473), C: (0.484, 0.476)\n",
    "\"\"\""
   ]
  }
 ],
 "metadata": {
  "kernelspec": {
   "display_name": "geister12",
   "language": "python",
   "name": "python3"
  },
  "language_info": {
   "codemirror_mode": {
    "name": "ipython",
    "version": 3
   },
   "file_extension": ".py",
   "mimetype": "text/x-python",
   "name": "python",
   "nbconvert_exporter": "python",
   "pygments_lexer": "ipython3",
   "version": "3.12.8"
  }
 },
 "nbformat": 4,
 "nbformat_minor": 2
}
