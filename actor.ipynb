{
 "cells": [
  {
   "cell_type": "code",
   "execution_count": 1,
   "metadata": {},
   "outputs": [
    {
     "name": "stdout",
     "output_type": "stream",
     "text": [
      "/home/kuramitsu/geister_mcts/tmp3hadepx4\n",
      "save /home/kuramitsu/geister_mcts/tmp3hadepx4/0.json\n",
      "save /home/kuramitsu/geister_mcts/tmp3hadepx4/0.json\n",
      "Assigned: (elapsed=0.000s, agent=main-0, opponent=main-0)\n",
      "Assigned: (elapsed=0.000s, agent=main-0, opponent=main-0)\n",
      "Assigned: (elapsed=0.000s, agent=main-0, opponent=main-0)\n",
      "Assigned: (elapsed=0.000s, agent=main-0, opponent=main-0)\n",
      "Assigned: (elapsed=0.000s, agent=main-0, opponent=main-0)\n",
      "Assigned: (elapsed=0.000s, agent=main-0, opponent=main-0)\n",
      "Assigned: (elapsed=0.000s, agent=main-0, opponent=main-0)\n",
      "Assigned: (elapsed=0.000s, agent=main-0, opponent=main-0)\n",
      "Assigned: (elapsed=0.000s, agent=main-0, opponent=main-0)\n",
      "Assigned: (elapsed=0.000s, agent=main-0, opponent=main-0)\n",
      "Assigned: (elapsed=0.000s, agent=main-0, opponent=main-0)\n",
      "Assigned: (elapsed=0.000s, agent=main-0, opponent=main-0)\n",
      "Assigned: (elapsed=0.000s, agent=main-0, opponent=main-0)\n",
      "Assigned: (elapsed=0.000s, agent=main-0, opponent=main-0)\n",
      "Assigned: (elapsed=0.000s, agent=main-0, opponent=main-0)\n",
      "Assigned: (elapsed=0.000s, agent=main-0, opponent=main-0)\n",
      "Assigned: (elapsed=0.000s, agent=main-0, opponent=main-0)\n",
      "Assigned: (elapsed=0.000s, agent=main-0, opponent=main-0)\n",
      "Assigned: (elapsed=0.000s, agent=main-0, opponent=main-0)\n",
      "Assigned: (elapsed=0.000s, agent=main-0, opponent=main-0)\n",
      "Assigned: (elapsed=0.000s, agent=main-0, opponent=main-0)\n",
      "Assigned: (elapsed=0.000s, agent=main-0, opponent=main-0)\n",
      "Assigned: (elapsed=0.000s, agent=main-0, opponent=main-0)\n",
      "Assigned: (elapsed=0.000s, agent=main-0, opponent=main-0)\n",
      "Assigned: (elapsed=0.000s, agent=main-0, opponent=main-0)\n",
      "Assigned: (elapsed=0.000s, agent=main-0, opponent=main-0)\n",
      "Assigned: (elapsed=0.000s, agent=main-0, opponent=main-0)\n",
      "Assigned: (elapsed=0.000s, agent=main-0, opponent=main-0)\n"
     ]
    },
    {
     "name": "stdout",
     "output_type": "stream",
     "text": [
      "Assigned: (elapsed=0.001s, agent=main-0, opponent=main-0)\n"
     ]
    },
    {
     "name": "stderr",
     "output_type": "stream",
     "text": [
      "Process SpawnProcess-5:\n",
      "Traceback (most recent call last):\n",
      "  File \"/home/kuramitsu/miniconda3/envs/jax_py3_12/lib/python3.12/multiprocessing/process.py\", line 314, in _bootstrap\n",
      "    self.run()\n",
      "  File \"/home/kuramitsu/miniconda3/envs/jax_py3_12/lib/python3.12/multiprocessing/process.py\", line 108, in run\n",
      "    self._target(*self._args, **self._kwargs)\n",
      "  File \"/home/kuramitsu/geister_mcts/distributed/actor.py\", line 36, in start_selfplay_process\n",
      "    player2 = match.opponent.create_player(project_dir)\n",
      "              ^^^^^^^^^^^^^^^^^^^^^^^^^^^^^^^^^^^^^^^^^\n",
      "  File \"/home/kuramitsu/geister_mcts/players/mcts.py\", line 604, in create_player\n",
      "    ckpt = CheckpointManager(project_dir).load(self.step)\n",
      "           ^^^^^^^^^^^^^^^^^^^^^^^^^^^^^^^^^^^^^^^^^^^^^^\n",
      "  File \"/home/kuramitsu/geister_mcts/network/checkpoints.py\", line 155, in load\n",
      "    with open(path, mode='r') as f:\n",
      "         ^^^^^^^^^^^^^^^^^^^^\n",
      "FileNotFoundError: [Errno 2] No such file or directory: '/home/kuramitsu/geister_mcts/tmp3hadepx4/0.json'\n"
     ]
    },
    {
     "ename": "TypeError",
     "evalue": "a bytes-like object is required, not 'NoneType'",
     "output_type": "error",
     "traceback": [
      "\u001b[0;31m---------------------------------------------------------------------------\u001b[0m",
      "\u001b[0;31mTypeError\u001b[0m                                 Traceback (most recent call last)",
      "Cell \u001b[0;32mIn[1], line 18\u001b[0m\n\u001b[1;32m     15\u001b[0m jax\u001b[38;5;241m.\u001b[39mconfig\u001b[38;5;241m.\u001b[39mupdate(\u001b[38;5;124m'\u001b[39m\u001b[38;5;124mjax_platform_name\u001b[39m\u001b[38;5;124m'\u001b[39m, \u001b[38;5;124m'\u001b[39m\u001b[38;5;124mcpu\u001b[39m\u001b[38;5;124m'\u001b[39m)\n\u001b[1;32m     17\u001b[0m \u001b[38;5;28;01mwith\u001b[39;00m tempfile\u001b[38;5;241m.\u001b[39mTemporaryDirectory(\u001b[38;5;28mdir\u001b[39m\u001b[38;5;241m=\u001b[39mPath\u001b[38;5;241m.\u001b[39mcwd()) \u001b[38;5;28;01mas\u001b[39;00m ckpt_dir:\n\u001b[0;32m---> 18\u001b[0m     \u001b[43mstart_actor_manager\u001b[49m\u001b[43m(\u001b[49m\u001b[43mip\u001b[49m\u001b[43m,\u001b[49m\u001b[43m \u001b[49m\u001b[43mport\u001b[49m\u001b[43m,\u001b[49m\u001b[43m \u001b[49m\u001b[43mn_clients\u001b[49m\u001b[43m,\u001b[49m\u001b[43m \u001b[49m\u001b[38;5;28;43mstr\u001b[39;49m\u001b[43m(\u001b[49m\u001b[43mckpt_dir\u001b[49m\u001b[43m)\u001b[49m\u001b[43m,\u001b[49m\u001b[43m \u001b[49m\u001b[43mpassword\u001b[49m\u001b[43m)\u001b[49m\n",
      "File \u001b[0;32m~/geister_mcts/distributed/actor_manager.py:84\u001b[0m, in \u001b[0;36mstart_actor_manager\u001b[0;34m(ip, port, n_clients, ckpt_dir, password)\u001b[0m\n\u001b[1;32m     81\u001b[0m result: MessageMatchResult \u001b[38;5;241m=\u001b[39m match_result_queue\u001b[38;5;241m.\u001b[39mget()\n\u001b[1;32m     82\u001b[0m communicator\u001b[38;5;241m.\u001b[39msend_json_obj(sock, result)\n\u001b[0;32m---> 84\u001b[0m msg \u001b[38;5;241m=\u001b[39m \u001b[43mcommunicator\u001b[49m\u001b[38;5;241;43m.\u001b[39;49m\u001b[43mrecv_json_obj\u001b[49m\u001b[43m(\u001b[49m\u001b[43msock\u001b[49m\u001b[43m,\u001b[49m\u001b[43m \u001b[49m\u001b[43mMessageNextMatch\u001b[49m\u001b[43m)\u001b[49m\n\u001b[1;32m     86\u001b[0m \u001b[38;5;28;01mfor\u001b[39;00m ckpt \u001b[38;5;129;01min\u001b[39;00m msg\u001b[38;5;241m.\u001b[39mckpts:\n\u001b[1;32m     87\u001b[0m     checkpoint_manager\u001b[38;5;241m.\u001b[39msave(ckpt)\n",
      "File \u001b[0;32m~/geister_mcts/distributed/communication.py:86\u001b[0m, in \u001b[0;36mEncryptedCommunicator.recv_json_obj\u001b[0;34m(self, sock, ty)\u001b[0m\n\u001b[1;32m     85\u001b[0m \u001b[38;5;28;01mdef\u001b[39;00m \u001b[38;5;21mrecv_json_obj\u001b[39m(\u001b[38;5;28mself\u001b[39m, sock: socket\u001b[38;5;241m.\u001b[39msocket, ty: \u001b[38;5;28mtype\u001b[39m[T]) \u001b[38;5;241m-\u001b[39m\u001b[38;5;241m>\u001b[39m T:\n\u001b[0;32m---> 86\u001b[0m     json_str \u001b[38;5;241m=\u001b[39m \u001b[38;5;28;43mself\u001b[39;49m\u001b[38;5;241;43m.\u001b[39;49m\u001b[43mrecv_str\u001b[49m\u001b[43m(\u001b[49m\u001b[43msock\u001b[49m\u001b[43m)\u001b[49m\n\u001b[1;32m     87\u001b[0m     \u001b[38;5;28;01mreturn\u001b[39;00m ty\u001b[38;5;241m.\u001b[39mfrom_json(json_str)\n",
      "File \u001b[0;32m~/geister_mcts/distributed/communication.py:79\u001b[0m, in \u001b[0;36mEncryptedCommunicator.recv_str\u001b[0;34m(self, sock, encoding)\u001b[0m\n\u001b[1;32m     78\u001b[0m \u001b[38;5;28;01mdef\u001b[39;00m \u001b[38;5;21mrecv_str\u001b[39m(\u001b[38;5;28mself\u001b[39m, sock: socket\u001b[38;5;241m.\u001b[39msocket, encoding: \u001b[38;5;28mstr\u001b[39m \u001b[38;5;241m=\u001b[39m \u001b[38;5;124m'\u001b[39m\u001b[38;5;124mutf-8\u001b[39m\u001b[38;5;124m'\u001b[39m):\n\u001b[0;32m---> 79\u001b[0m     \u001b[38;5;28;01mreturn\u001b[39;00m \u001b[38;5;28;43mself\u001b[39;49m\u001b[38;5;241;43m.\u001b[39;49m\u001b[43mrecv_bytes\u001b[49m\u001b[43m(\u001b[49m\u001b[43msock\u001b[49m\u001b[43m)\u001b[49m\u001b[38;5;241m.\u001b[39mdecode(encoding)\n",
      "File \u001b[0;32m~/geister_mcts/distributed/communication.py:70\u001b[0m, in \u001b[0;36mEncryptedCommunicator.recv_bytes\u001b[0;34m(self, sock)\u001b[0m\n\u001b[1;32m     68\u001b[0m \u001b[38;5;28;01mdef\u001b[39;00m \u001b[38;5;21mrecv_bytes\u001b[39m(\u001b[38;5;28mself\u001b[39m, sock: socket\u001b[38;5;241m.\u001b[39msocket) \u001b[38;5;241m-\u001b[39m\u001b[38;5;241m>\u001b[39m \u001b[38;5;28mbytes\u001b[39m:\n\u001b[1;32m     69\u001b[0m     msg_len \u001b[38;5;241m=\u001b[39m _recvall(sock, \u001b[38;5;241m4\u001b[39m)\n\u001b[0;32m---> 70\u001b[0m     msglen \u001b[38;5;241m=\u001b[39m \u001b[43mstruct\u001b[49m\u001b[38;5;241;43m.\u001b[39;49m\u001b[43munpack\u001b[49m\u001b[43m(\u001b[49m\u001b[38;5;124;43m'\u001b[39;49m\u001b[38;5;124;43m>I\u001b[39;49m\u001b[38;5;124;43m'\u001b[39;49m\u001b[43m,\u001b[49m\u001b[43m \u001b[49m\u001b[43mmsg_len\u001b[49m\u001b[43m)\u001b[49m[\u001b[38;5;241m0\u001b[39m]\n\u001b[1;32m     71\u001b[0m     msg \u001b[38;5;241m=\u001b[39m _recvall(sock, msglen)\n\u001b[1;32m     72\u001b[0m     msg \u001b[38;5;241m=\u001b[39m \u001b[38;5;28mself\u001b[39m\u001b[38;5;241m.\u001b[39mfernet\u001b[38;5;241m.\u001b[39mdecrypt(msg)\n",
      "\u001b[0;31mTypeError\u001b[0m: a bytes-like object is required, not 'NoneType'"
     ]
    },
    {
     "name": "stdout",
     "output_type": "stream",
     "text": [
      "Assigned: (elapsed=0.001s, agent=main-0, opponent=main-0)\n"
     ]
    },
    {
     "name": "stderr",
     "output_type": "stream",
     "text": [
      "Process SpawnProcess-15:\n",
      "Traceback (most recent call last):\n",
      "  File \"/home/kuramitsu/miniconda3/envs/jax_py3_12/lib/python3.12/multiprocessing/process.py\", line 314, in _bootstrap\n",
      "    self.run()\n",
      "  File \"/home/kuramitsu/miniconda3/envs/jax_py3_12/lib/python3.12/multiprocessing/process.py\", line 108, in run\n",
      "    self._target(*self._args, **self._kwargs)\n",
      "  File \"/home/kuramitsu/geister_mcts/distributed/actor.py\", line 35, in start_selfplay_process\n",
      "    player1 = match.player.create_player(project_dir)\n",
      "              ^^^^^^^^^^^^^^^^^^^^^^^^^^^^^^^^^^^^^^^\n",
      "  File \"/home/kuramitsu/geister_mcts/players/mcts.py\", line 604, in create_player\n",
      "    ckpt = CheckpointManager(project_dir).load(self.step)\n",
      "           ^^^^^^^^^^^^^^^^^^^^^^^^^^^^^^^^^^^^^^^^^^^^^^\n",
      "  File \"/home/kuramitsu/geister_mcts/network/checkpoints.py\", line 155, in load\n",
      "    with open(path, mode='r') as f:\n",
      "         ^^^^^^^^^^^^^^^^^^^^\n",
      "FileNotFoundError: [Errno 2] No such file or directory: '/home/kuramitsu/geister_mcts/tmp3hadepx4/0.json'\n"
     ]
    },
    {
     "name": "stdout",
     "output_type": "stream",
     "text": [
      "Assigned: (elapsed=0.002s, agent=main-0, opponent=main-0)\n"
     ]
    },
    {
     "name": "stderr",
     "output_type": "stream",
     "text": [
      "Process SpawnProcess-3:\n",
      "Traceback (most recent call last):\n",
      "  File \"/home/kuramitsu/miniconda3/envs/jax_py3_12/lib/python3.12/multiprocessing/process.py\", line 314, in _bootstrap\n",
      "    self.run()\n",
      "  File \"/home/kuramitsu/miniconda3/envs/jax_py3_12/lib/python3.12/multiprocessing/process.py\", line 108, in run\n",
      "    self._target(*self._args, **self._kwargs)\n",
      "  File \"/home/kuramitsu/geister_mcts/distributed/actor.py\", line 35, in start_selfplay_process\n",
      "    player1 = match.player.create_player(project_dir)\n",
      "              ^^^^^^^^^^^^^^^^^^^^^^^^^^^^^^^^^^^^^^^\n",
      "  File \"/home/kuramitsu/geister_mcts/players/mcts.py\", line 604, in create_player\n",
      "    ckpt = CheckpointManager(project_dir).load(self.step)\n",
      "           ^^^^^^^^^^^^^^^^^^^^^^^^^^^^^^^^^^^^^^^^^^^^^^\n",
      "  File \"/home/kuramitsu/geister_mcts/network/checkpoints.py\", line 155, in load\n",
      "    with open(path, mode='r') as f:\n",
      "         ^^^^^^^^^^^^^^^^^^^^\n",
      "FileNotFoundError: [Errno 2] No such file or directory: '/home/kuramitsu/geister_mcts/tmp3hadepx4/0.json'\n"
     ]
    },
    {
     "name": "stdout",
     "output_type": "stream",
     "text": [
      "Assigned: (elapsed=0.001s, agent=main-0, opponent=main-0)\n"
     ]
    },
    {
     "name": "stderr",
     "output_type": "stream",
     "text": [
      "Process SpawnProcess-27:\n",
      "Traceback (most recent call last):\n",
      "  File \"/home/kuramitsu/miniconda3/envs/jax_py3_12/lib/python3.12/multiprocessing/process.py\", line 314, in _bootstrap\n",
      "    self.run()\n",
      "  File \"/home/kuramitsu/miniconda3/envs/jax_py3_12/lib/python3.12/multiprocessing/process.py\", line 108, in run\n",
      "    self._target(*self._args, **self._kwargs)\n",
      "  File \"/home/kuramitsu/geister_mcts/distributed/actor.py\", line 35, in start_selfplay_process\n",
      "    player1 = match.player.create_player(project_dir)\n",
      "              ^^^^^^^^^^^^^^^^^^^^^^^^^^^^^^^^^^^^^^^\n",
      "  File \"/home/kuramitsu/geister_mcts/players/mcts.py\", line 604, in create_player\n",
      "    ckpt = CheckpointManager(project_dir).load(self.step)\n",
      "           ^^^^^^^^^^^^^^^^^^^^^^^^^^^^^^^^^^^^^^^^^^^^^^\n",
      "  File \"/home/kuramitsu/geister_mcts/network/checkpoints.py\", line 155, in load\n",
      "    with open(path, mode='r') as f:\n",
      "         ^^^^^^^^^^^^^^^^^^^^\n",
      "FileNotFoundError: [Errno 2] No such file or directory: '/home/kuramitsu/geister_mcts/tmp3hadepx4/0.json'\n"
     ]
    },
    {
     "name": "stdout",
     "output_type": "stream",
     "text": [
      "Assigned: (elapsed=0.001s, agent=main-0, opponent=main-0)\n"
     ]
    },
    {
     "name": "stderr",
     "output_type": "stream",
     "text": [
      "Process SpawnProcess-8:\n",
      "Traceback (most recent call last):\n",
      "  File \"/home/kuramitsu/miniconda3/envs/jax_py3_12/lib/python3.12/multiprocessing/process.py\", line 314, in _bootstrap\n",
      "    self.run()\n",
      "  File \"/home/kuramitsu/miniconda3/envs/jax_py3_12/lib/python3.12/multiprocessing/process.py\", line 108, in run\n",
      "    self._target(*self._args, **self._kwargs)\n",
      "  File \"/home/kuramitsu/geister_mcts/distributed/actor.py\", line 35, in start_selfplay_process\n",
      "    player1 = match.player.create_player(project_dir)\n",
      "              ^^^^^^^^^^^^^^^^^^^^^^^^^^^^^^^^^^^^^^^\n",
      "  File \"/home/kuramitsu/geister_mcts/players/mcts.py\", line 604, in create_player\n",
      "    ckpt = CheckpointManager(project_dir).load(self.step)\n",
      "           ^^^^^^^^^^^^^^^^^^^^^^^^^^^^^^^^^^^^^^^^^^^^^^\n",
      "  File \"/home/kuramitsu/geister_mcts/network/checkpoints.py\", line 155, in load\n",
      "    with open(path, mode='r') as f:\n",
      "         ^^^^^^^^^^^^^^^^^^^^\n",
      "FileNotFoundError: [Errno 2] No such file or directory: '/home/kuramitsu/geister_mcts/tmp3hadepx4/0.json'\n"
     ]
    },
    {
     "name": "stdout",
     "output_type": "stream",
     "text": [
      "Assigned: (elapsed=0.001s, agent=main-0, opponent=main-0)\n"
     ]
    },
    {
     "name": "stderr",
     "output_type": "stream",
     "text": [
      "Process SpawnProcess-23:\n",
      "Traceback (most recent call last):\n",
      "  File \"/home/kuramitsu/miniconda3/envs/jax_py3_12/lib/python3.12/multiprocessing/process.py\", line 314, in _bootstrap\n",
      "    self.run()\n",
      "  File \"/home/kuramitsu/miniconda3/envs/jax_py3_12/lib/python3.12/multiprocessing/process.py\", line 108, in run\n",
      "    self._target(*self._args, **self._kwargs)\n",
      "  File \"/home/kuramitsu/geister_mcts/distributed/actor.py\", line 35, in start_selfplay_process\n",
      "    player1 = match.player.create_player(project_dir)\n",
      "              ^^^^^^^^^^^^^^^^^^^^^^^^^^^^^^^^^^^^^^^\n",
      "  File \"/home/kuramitsu/geister_mcts/players/mcts.py\", line 604, in create_player\n",
      "    ckpt = CheckpointManager(project_dir).load(self.step)\n",
      "           ^^^^^^^^^^^^^^^^^^^^^^^^^^^^^^^^^^^^^^^^^^^^^^\n",
      "  File \"/home/kuramitsu/geister_mcts/network/checkpoints.py\", line 155, in load\n",
      "    with open(path, mode='r') as f:\n",
      "         ^^^^^^^^^^^^^^^^^^^^\n",
      "FileNotFoundError: [Errno 2] No such file or directory: '/home/kuramitsu/geister_mcts/tmp3hadepx4/0.json'\n"
     ]
    },
    {
     "name": "stdout",
     "output_type": "stream",
     "text": [
      "Assigned: (elapsed=0.001s, agent=main-0, opponent=main-0)\n",
      "Assigned: (elapsed=0.001s, agent=main-0, opponent=main-0)\n"
     ]
    },
    {
     "name": "stderr",
     "output_type": "stream",
     "text": [
      "Process SpawnProcess-2:\n",
      "Traceback (most recent call last):\n",
      "  File \"/home/kuramitsu/miniconda3/envs/jax_py3_12/lib/python3.12/multiprocessing/process.py\", line 314, in _bootstrap\n",
      "    self.run()\n",
      "  File \"/home/kuramitsu/miniconda3/envs/jax_py3_12/lib/python3.12/multiprocessing/process.py\", line 108, in run\n",
      "    self._target(*self._args, **self._kwargs)\n",
      "  File \"/home/kuramitsu/geister_mcts/distributed/actor.py\", line 35, in start_selfplay_process\n",
      "    player1 = match.player.create_player(project_dir)\n",
      "              ^^^^^^^^^^^^^^^^^^^^^^^^^^^^^^^^^^^^^^^\n",
      "  File \"/home/kuramitsu/geister_mcts/players/mcts.py\", line 604, in create_player\n",
      "    ckpt = CheckpointManager(project_dir).load(self.step)\n",
      "           ^^^^^^^^^^^^^^^^^^^^^^^^^^^^^^^^^^^^^^^^^^^^^^\n",
      "  File \"/home/kuramitsu/geister_mcts/network/checkpoints.py\", line 155, in load\n",
      "    with open(path, mode='r') as f:\n",
      "         ^^^^^^^^^^^^^^^^^^^^\n",
      "FileNotFoundError: [Errno 2] No such file or directory: '/home/kuramitsu/geister_mcts/tmp3hadepx4/0.json'\n"
     ]
    },
    {
     "name": "stdout",
     "output_type": "stream",
     "text": [
      "Assigned: (elapsed=0.001s, agent=main-0, opponent=main-0)\n",
      "Assigned: (elapsed=0.001s, agent=main-0, opponent=main-0)\n"
     ]
    }
   ],
   "source": [
    "import os\n",
    "os.environ['JAX_PLATFORMS'] = 'cpu'\n",
    "\n",
    "from pathlib import Path\n",
    "import tempfile\n",
    "import jax\n",
    "\n",
    "from distributed.actor_manager import start_actor_manager\n",
    "\n",
    "ip = \"localhost\"\n",
    "port = 24000\n",
    "n_clients = 28\n",
    "password = \"mtzw\"\n",
    "\n",
    "jax.config.update('jax_platform_name', 'cpu')\n",
    "\n",
    "with tempfile.TemporaryDirectory(dir=Path.cwd()) as ckpt_dir:\n",
    "    os.mkdir(ckpt_dir)\n",
    "    start_actor_manager(ip, port, n_clients, str(ckpt_dir), password)\n"
   ]
  }
 ],
 "metadata": {
  "kernelspec": {
   "display_name": "geister_env",
   "language": "python",
   "name": "python3"
  },
  "language_info": {
   "codemirror_mode": {
    "name": "ipython",
    "version": 3
   },
   "file_extension": ".py",
   "mimetype": "text/x-python",
   "name": "python",
   "nbconvert_exporter": "python",
   "pygments_lexer": "ipython3",
   "version": "3.12.8"
  }
 },
 "nbformat": 4,
 "nbformat_minor": 2
}
