{
 "cells": [
  {
   "cell_type": "code",
   "execution_count": 1,
   "metadata": {},
   "outputs": [
    {
     "name": "stdout",
     "output_type": "stream",
     "text": [
      "Waiting learner client...\n",
      "Learner client from ('127.0.0.1', 47306)\n",
      "Initializing agents\n",
      "Sending a init message to a learner client\n",
      "Initilizing actor client hub\n",
      "Waiting actor client...\n"
     ]
    },
    {
     "name": "stderr",
     "output_type": "stream",
     "text": [
      "Collecting:   0%|          | 0/16 [00:00<?, ?it/s]"
     ]
    },
    {
     "name": "stdout",
     "output_type": "stream",
     "text": [
      "Actor client from ('127.0.0.1', 47322)\n"
     ]
    },
    {
     "name": "stderr",
     "output_type": "stream",
     "text": [
      "Traceback (most recent call last):\n",
      "  File \"/home/kuramitsu/geister_mcts/distributed/collector.py\", line 189, in handle_client_actor\n",
      "    _handle_client_actor(sock, communicator, match_result_queue, agent, config)\n",
      "  File \"/home/kuramitsu/geister_mcts/distributed/collector.py\", line 218, in _handle_client_actor\n",
      "    while result_msg := communicator.recv_json_obj(sock, MessageMatchResult):\n",
      "                        ^^^^^^^^^^^^^^^^^^^^^^^^^^^^^^^^^^^^^^^^^^^^^^^^^^^^\n",
      "  File \"/home/kuramitsu/geister_mcts/distributed/communication.py\", line 86, in recv_json_obj\n",
      "    json_str = self.recv_str(sock)\n",
      "               ^^^^^^^^^^^^^^^^^^^\n",
      "  File \"/home/kuramitsu/geister_mcts/distributed/communication.py\", line 79, in recv_str\n",
      "    return self.recv_bytes(sock).decode(encoding)\n",
      "           ^^^^^^^^^^^^^^^^^^^^^\n",
      "  File \"/home/kuramitsu/geister_mcts/distributed/communication.py\", line 70, in recv_bytes\n",
      "    msglen = struct.unpack('>I', msg_len)[0]\n",
      "             ^^^^^^^^^^^^^^^^^^^^^^^^^^^^\n",
      "TypeError: a bytes-like object is required, not 'NoneType'\n"
     ]
    },
    {
     "name": "stdout",
     "output_type": "stream",
     "text": [
      "Actor client is disconnected\n",
      "Actor client from ('127.0.0.1', 44496)\n"
     ]
    },
    {
     "name": "stderr",
     "output_type": "stream",
     "text": [
      "Traceback (most recent call last):\n",
      "  File \"/home/kuramitsu/geister_mcts/distributed/collector.py\", line 189, in handle_client_actor\n",
      "    _handle_client_actor(sock, communicator, match_result_queue, agent, config)\n",
      "  File \"/home/kuramitsu/geister_mcts/distributed/collector.py\", line 232, in _handle_client_actor\n",
      "    ckpt = agent.ckpt_manager.load(step)\n",
      "           ^^^^^^^^^^^^^^^^^^^^^^^^^^^^^\n",
      "  File \"/home/kuramitsu/geister_mcts/network/checkpoints.py\", line 158, in load\n",
      "    with open(path, mode='r') as f:\n",
      "         ^^^^^^^^^^^^^^^^^^^^\n",
      "FileNotFoundError: [Errno 2] No such file or directory: './data/projects/run-test-1/0.json'\n",
      "Collecting:   0%|          | 0/16 [00:54<?, ?it/s]\n"
     ]
    },
    {
     "name": "stdout",
     "output_type": "stream",
     "text": [
      "Actor client is disconnected\n"
     ]
    },
    {
     "ename": "TypeError",
     "evalue": "unhashable type: 'numpy.ndarray'",
     "output_type": "error",
     "traceback": [
      "\u001b[0;31m---------------------------------------------------------------------------\u001b[0m",
      "\u001b[0;31mTypeError\u001b[0m                                 Traceback (most recent call last)",
      "Cell \u001b[0;32mIn[1], line 22\u001b[0m\n\u001b[1;32m     20\u001b[0m \u001b[38;5;28;01mexcept\u001b[39;00m \u001b[38;5;167;01mException\u001b[39;00m \u001b[38;5;28;01mas\u001b[39;00m e:\n\u001b[1;32m     21\u001b[0m     server\u001b[38;5;241m.\u001b[39mclose()\n\u001b[0;32m---> 22\u001b[0m     \u001b[38;5;28;01mraise\u001b[39;00m e\n",
      "Cell \u001b[0;32mIn[1], line 18\u001b[0m\n\u001b[1;32m     16\u001b[0m     jax\u001b[38;5;241m.\u001b[39mconfig\u001b[38;5;241m.\u001b[39mupdate(\u001b[38;5;124m'\u001b[39m\u001b[38;5;124mjax_platform_name\u001b[39m\u001b[38;5;124m'\u001b[39m, \u001b[38;5;124m'\u001b[39m\u001b[38;5;124mcpu\u001b[39m\u001b[38;5;124m'\u001b[39m)\n\u001b[1;32m     17\u001b[0m     \u001b[38;5;28;01mwith\u001b[39;00m jax\u001b[38;5;241m.\u001b[39mdefault_device(jax\u001b[38;5;241m.\u001b[39mdevices(\u001b[38;5;124m\"\u001b[39m\u001b[38;5;124mcpu\u001b[39m\u001b[38;5;124m\"\u001b[39m)[\u001b[38;5;241m0\u001b[39m]):\n\u001b[0;32m---> 18\u001b[0m         \u001b[43mcollector\u001b[49m\u001b[38;5;241;43m.\u001b[39;49m\u001b[43mstart\u001b[49m\u001b[43m(\u001b[49m\u001b[43mserver\u001b[49m\u001b[43m,\u001b[49m\u001b[43m \u001b[49m\u001b[43mconfig_path\u001b[49m\u001b[43m,\u001b[49m\u001b[43m \u001b[49m\u001b[43mpassword\u001b[49m\u001b[43m)\u001b[49m\n\u001b[1;32m     20\u001b[0m \u001b[38;5;28;01mexcept\u001b[39;00m \u001b[38;5;167;01mException\u001b[39;00m \u001b[38;5;28;01mas\u001b[39;00m e:\n\u001b[1;32m     21\u001b[0m     server\u001b[38;5;241m.\u001b[39mclose()\n",
      "File \u001b[0;32m~/geister_mcts/distributed/collector.py:299\u001b[0m, in \u001b[0;36mstart\u001b[0;34m(server, config_path, password)\u001b[0m\n\u001b[1;32m    296\u001b[0m         time\u001b[38;5;241m.\u001b[39msleep(\u001b[38;5;241m0.1\u001b[39m)\n\u001b[1;32m    298\u001b[0m     result: MessageMatchResult \u001b[38;5;241m=\u001b[39m match_result_queue\u001b[38;5;241m.\u001b[39mget()\n\u001b[0;32m--> 299\u001b[0m     \u001b[43magent\u001b[49m\u001b[38;5;241;43m.\u001b[39;49m\u001b[43mapply_match_result\u001b[49m\u001b[43m(\u001b[49m\u001b[43mresult\u001b[49m\u001b[38;5;241;43m.\u001b[39;49m\u001b[43mmatch\u001b[49m\u001b[43m,\u001b[49m\u001b[43m \u001b[49m\u001b[43mresult\u001b[49m\u001b[38;5;241;43m.\u001b[39;49m\u001b[43msamples\u001b[49m\u001b[43m)\u001b[49m\n\u001b[1;32m    301\u001b[0m log \u001b[38;5;241m=\u001b[39m agent\u001b[38;5;241m.\u001b[39mnext_step()\n\u001b[1;32m    303\u001b[0m \u001b[38;5;28;01mif\u001b[39;00m is_waiting_parameter_update:\n\u001b[1;32m    304\u001b[0m     \u001b[38;5;66;03m# recv_updated_params\u001b[39;00m\n",
      "File \u001b[0;32m~/geister_mcts/distributed/collector.py:97\u001b[0m, in \u001b[0;36mAgent.apply_match_result\u001b[0;34m(self, match, samples)\u001b[0m\n\u001b[1;32m     94\u001b[0m \u001b[38;5;28;01mdef\u001b[39;00m \u001b[38;5;21mapply_match_result\u001b[39m(\u001b[38;5;28mself\u001b[39m, match: MatchInfo, samples: np\u001b[38;5;241m.\u001b[39mndarray):\n\u001b[1;32m     95\u001b[0m     \u001b[38;5;28mself\u001b[39m\u001b[38;5;241m.\u001b[39mreplay_buffer\u001b[38;5;241m.\u001b[39madd_sample(samples)\n\u001b[0;32m---> 97\u001b[0m     \u001b[38;5;28;01mif\u001b[39;00m \u001b[43mmatch\u001b[49m\u001b[38;5;241;43m.\u001b[39;49m\u001b[43mopponent\u001b[49m\u001b[43m \u001b[49m\u001b[38;5;129;43;01mnot\u001b[39;49;00m\u001b[43m \u001b[49m\u001b[38;5;129;43;01min\u001b[39;49;00m\u001b[43m \u001b[49m\u001b[38;5;28;43mself\u001b[39;49m\u001b[38;5;241;43m.\u001b[39;49m\u001b[43mlastest_games\u001b[49m:\n\u001b[1;32m     98\u001b[0m         \u001b[38;5;28mself\u001b[39m\u001b[38;5;241m.\u001b[39mlastest_games[match\u001b[38;5;241m.\u001b[39mopponent] \u001b[38;5;241m=\u001b[39m []\n\u001b[1;32m    100\u001b[0m     \u001b[38;5;28mself\u001b[39m\u001b[38;5;241m.\u001b[39mlastest_games[match\u001b[38;5;241m.\u001b[39mopponent]\u001b[38;5;241m.\u001b[39mappend(samples)\n",
      "File \u001b[0;32m<string>:3\u001b[0m, in \u001b[0;36m__hash__\u001b[0;34m(self)\u001b[0m\n",
      "File \u001b[0;32m<string>:3\u001b[0m, in \u001b[0;36m__hash__\u001b[0;34m(self)\u001b[0m\n",
      "File \u001b[0;32m<string>:3\u001b[0m, in \u001b[0;36m__hash__\u001b[0;34m(self)\u001b[0m\n",
      "\u001b[0;31mTypeError\u001b[0m: unhashable type: 'numpy.ndarray'"
     ]
    }
   ],
   "source": [
    "import socket\n",
    "import jax\n",
    "import distributed.collector as collector\n",
    "\n",
    "host = \"0.0.0.0\"\n",
    "port = 24000\n",
    "password = \"mtzw\"\n",
    "config_path = \"./data/run_config.json\"\n",
    "\n",
    "server = socket.socket(socket.AF_INET, socket.SOCK_STREAM)\n",
    "\n",
    "try:\n",
    "    server.bind((host, port))\n",
    "    server.listen()\n",
    "\n",
    "    jax.config.update('jax_platform_name', 'cpu')\n",
    "    with jax.default_device(jax.devices(\"cpu\")[0]):\n",
    "        collector.start(server, config_path, password)\n",
    "\n",
    "except Exception as e:\n",
    "    server.close()\n",
    "    raise e\n"
   ]
  }
 ],
 "metadata": {
  "kernelspec": {
   "display_name": "geister_env",
   "language": "python",
   "name": "python3"
  },
  "language_info": {
   "codemirror_mode": {
    "name": "ipython",
    "version": 3
   },
   "file_extension": ".py",
   "mimetype": "text/x-python",
   "name": "python",
   "nbconvert_exporter": "python",
   "pygments_lexer": "ipython3",
   "version": "3.12.8"
  }
 },
 "nbformat": 4,
 "nbformat_minor": 2
}
