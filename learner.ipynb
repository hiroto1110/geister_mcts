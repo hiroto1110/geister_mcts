{
 "cells": [
  {
   "cell_type": "code",
   "execution_count": 2,
   "metadata": {},
   "outputs": [
    {
     "name": "stdout",
     "output_type": "stream",
     "text": [
      "RunConfig(project_name='geister-rmt', wandb_log=False, series_length=4, tokens_length=220, update_period=16, replay_buffer_size=40000, init_replay_buffer=None, agent=AgentConfig(init_params=FromCheckpoint(dir_name='./data/checkpoints/tr-st', step=4), training=TrainingConfig(batch_size=32, num_batches=16, learning_rate=0.005), match_making=MatchMakingConfig(mathod=PFSP(p=4.0), buffer_size=2048), condition_for_keeping_snapshots=ConditionForKeepingSnapshots(win_rate_threshold=None, step_period=50), mcts_params=SearchParametersRange(num_simulations=IntRange(min=10, max=40), dirichlet_alpha=FloatRange(min=0.1, max=0.4), dirichlet_eps=FloatRange(min=0.25, max=0.25), n_ply_to_apply_noise=IntRange(min=10, max=20), max_duplicates=IntRange(min=1, max=8), c_init=FloatRange(min=1.25, max=1.25), c_base=IntRange(min=10, max=50), depth_search_checkmate_root=IntRange(min=6, max=8), depth_search_checkmate_leaf=IntRange(min=3, max=5), value_weight=VectorRange(min=array([-1, -1, -1,  0,  1,  1,  1]), max=array([-1, -1, -1,  0,  1,  1,  1])), test_c=False, visibilize_node_graph=False)), project_dir='./data/projects/run-test-1', ckpt_options=CheckpointManagerOptions(max_to_keep=50, keep_period=50))\n"
     ]
    },
    {
     "name": "stderr",
     "output_type": "stream",
     "text": [
      "2024-12-18 23:53:36.270216: W external/xla/xla/service/gpu/nvptx_compiler.cc:718] The NVIDIA driver's CUDA version is 12.4 which is older than the ptxas CUDA version (12.6.85). Because the driver is older than the ptxas version, XLA is disabling parallel compilation, which may slow down compilation. You should update your NVIDIA driver or use the NVIDIA-provided CUDA forward compatibility packages.\n"
     ]
    },
    {
     "ename": "KeyboardInterrupt",
     "evalue": "",
     "output_type": "error",
     "traceback": [
      "\u001b[0;31m---------------------------------------------------------------------------\u001b[0m",
      "\u001b[0;31mKeyboardInterrupt\u001b[0m                         Traceback (most recent call last)",
      "Cell \u001b[0;32mIn[2], line 7\u001b[0m\n\u001b[1;32m      4\u001b[0m port \u001b[38;5;241m=\u001b[39m \u001b[38;5;241m24001\u001b[39m\n\u001b[1;32m      5\u001b[0m password \u001b[38;5;241m=\u001b[39m \u001b[38;5;124m\"\u001b[39m\u001b[38;5;124mmtzw\u001b[39m\u001b[38;5;124m\"\u001b[39m\n\u001b[0;32m----> 7\u001b[0m \u001b[43mstart_learner\u001b[49m\u001b[43m(\u001b[49m\u001b[43mhost\u001b[49m\u001b[43m,\u001b[49m\u001b[43m \u001b[49m\u001b[43mport\u001b[49m\u001b[43m,\u001b[49m\u001b[43m \u001b[49m\u001b[43mpassword\u001b[49m\u001b[43m)\u001b[49m\n",
      "File \u001b[0;32m~/geister_mcts/distributed/learner.py:86\u001b[0m, in \u001b[0;36mstart_learner\u001b[0;34m(host, port, password)\u001b[0m\n\u001b[1;32m     77\u001b[0m state \u001b[38;5;241m=\u001b[39m TrainStateTransformer\u001b[38;5;241m.\u001b[39mcreate(\n\u001b[1;32m     78\u001b[0m     apply_fn\u001b[38;5;241m=\u001b[39mmodel\u001b[38;5;241m.\u001b[39mapply,\n\u001b[1;32m     79\u001b[0m     params\u001b[38;5;241m=\u001b[39minit_msg\u001b[38;5;241m.\u001b[39mckpt\u001b[38;5;241m.\u001b[39mparams,\n\u001b[0;32m   (...)\u001b[0m\n\u001b[1;32m     82\u001b[0m     epoch\u001b[38;5;241m=\u001b[39m\u001b[38;5;241m0\u001b[39m\n\u001b[1;32m     83\u001b[0m )\n\u001b[1;32m     85\u001b[0m \u001b[38;5;28;01mwhile\u001b[39;00m \u001b[38;5;28;01mTrue\u001b[39;00m:\n\u001b[0;32m---> 86\u001b[0m     request \u001b[38;5;241m=\u001b[39m \u001b[43mcommunicator\u001b[49m\u001b[38;5;241;43m.\u001b[39;49m\u001b[43mrecv_json_obj\u001b[49m\u001b[43m(\u001b[49m\u001b[43msock\u001b[49m\u001b[43m,\u001b[49m\u001b[43m \u001b[49m\u001b[43mMessageLearningRequest\u001b[49m\u001b[43m)\u001b[49m\n\u001b[1;32m     88\u001b[0m     state, result \u001b[38;5;241m=\u001b[39m train(state, model, request\u001b[38;5;241m.\u001b[39mminibatch, config\u001b[38;5;241m.\u001b[39magent\u001b[38;5;241m.\u001b[39mtraining)\n\u001b[1;32m     90\u001b[0m     communicator\u001b[38;5;241m.\u001b[39msend_json_obj(sock, result)\n",
      "File \u001b[0;32m~/geister_mcts/distributed/communication.py:86\u001b[0m, in \u001b[0;36mEncryptedCommunicator.recv_json_obj\u001b[0;34m(self, sock, ty)\u001b[0m\n\u001b[1;32m     85\u001b[0m \u001b[38;5;28;01mdef\u001b[39;00m \u001b[38;5;21mrecv_json_obj\u001b[39m(\u001b[38;5;28mself\u001b[39m, sock: socket\u001b[38;5;241m.\u001b[39msocket, ty: \u001b[38;5;28mtype\u001b[39m[T]) \u001b[38;5;241m-\u001b[39m\u001b[38;5;241m>\u001b[39m T:\n\u001b[0;32m---> 86\u001b[0m     json_str \u001b[38;5;241m=\u001b[39m \u001b[38;5;28;43mself\u001b[39;49m\u001b[38;5;241;43m.\u001b[39;49m\u001b[43mrecv_str\u001b[49m\u001b[43m(\u001b[49m\u001b[43msock\u001b[49m\u001b[43m)\u001b[49m\n\u001b[1;32m     87\u001b[0m     \u001b[38;5;28;01mreturn\u001b[39;00m ty\u001b[38;5;241m.\u001b[39mfrom_json(json_str)\n",
      "File \u001b[0;32m~/geister_mcts/distributed/communication.py:79\u001b[0m, in \u001b[0;36mEncryptedCommunicator.recv_str\u001b[0;34m(self, sock, encoding)\u001b[0m\n\u001b[1;32m     78\u001b[0m \u001b[38;5;28;01mdef\u001b[39;00m \u001b[38;5;21mrecv_str\u001b[39m(\u001b[38;5;28mself\u001b[39m, sock: socket\u001b[38;5;241m.\u001b[39msocket, encoding: \u001b[38;5;28mstr\u001b[39m \u001b[38;5;241m=\u001b[39m \u001b[38;5;124m'\u001b[39m\u001b[38;5;124mutf-8\u001b[39m\u001b[38;5;124m'\u001b[39m):\n\u001b[0;32m---> 79\u001b[0m     \u001b[38;5;28;01mreturn\u001b[39;00m \u001b[38;5;28;43mself\u001b[39;49m\u001b[38;5;241;43m.\u001b[39;49m\u001b[43mrecv_bytes\u001b[49m\u001b[43m(\u001b[49m\u001b[43msock\u001b[49m\u001b[43m)\u001b[49m\u001b[38;5;241m.\u001b[39mdecode(encoding)\n",
      "File \u001b[0;32m~/geister_mcts/distributed/communication.py:69\u001b[0m, in \u001b[0;36mEncryptedCommunicator.recv_bytes\u001b[0;34m(self, sock)\u001b[0m\n\u001b[1;32m     68\u001b[0m \u001b[38;5;28;01mdef\u001b[39;00m \u001b[38;5;21mrecv_bytes\u001b[39m(\u001b[38;5;28mself\u001b[39m, sock: socket\u001b[38;5;241m.\u001b[39msocket) \u001b[38;5;241m-\u001b[39m\u001b[38;5;241m>\u001b[39m \u001b[38;5;28mbytes\u001b[39m:\n\u001b[0;32m---> 69\u001b[0m     msg_len \u001b[38;5;241m=\u001b[39m \u001b[43m_recvall\u001b[49m\u001b[43m(\u001b[49m\u001b[43msock\u001b[49m\u001b[43m,\u001b[49m\u001b[43m \u001b[49m\u001b[38;5;241;43m4\u001b[39;49m\u001b[43m)\u001b[49m\n\u001b[1;32m     70\u001b[0m     msglen \u001b[38;5;241m=\u001b[39m struct\u001b[38;5;241m.\u001b[39munpack(\u001b[38;5;124m'\u001b[39m\u001b[38;5;124m>I\u001b[39m\u001b[38;5;124m'\u001b[39m, msg_len)[\u001b[38;5;241m0\u001b[39m]\n\u001b[1;32m     71\u001b[0m     msg \u001b[38;5;241m=\u001b[39m _recvall(sock, msglen)\n",
      "File \u001b[0;32m~/geister_mcts/distributed/communication.py:93\u001b[0m, in \u001b[0;36m_recvall\u001b[0;34m(sock, n)\u001b[0m\n\u001b[1;32m     91\u001b[0m data \u001b[38;5;241m=\u001b[39m \u001b[38;5;28mbytearray\u001b[39m()\n\u001b[1;32m     92\u001b[0m \u001b[38;5;28;01mwhile\u001b[39;00m \u001b[38;5;28mlen\u001b[39m(data) \u001b[38;5;241m<\u001b[39m n:\n\u001b[0;32m---> 93\u001b[0m     packet \u001b[38;5;241m=\u001b[39m \u001b[43msock\u001b[49m\u001b[38;5;241;43m.\u001b[39;49m\u001b[43mrecv\u001b[49m\u001b[43m(\u001b[49m\u001b[43mn\u001b[49m\u001b[43m \u001b[49m\u001b[38;5;241;43m-\u001b[39;49m\u001b[43m \u001b[49m\u001b[38;5;28;43mlen\u001b[39;49m\u001b[43m(\u001b[49m\u001b[43mdata\u001b[49m\u001b[43m)\u001b[49m\u001b[43m)\u001b[49m\n\u001b[1;32m     94\u001b[0m     \u001b[38;5;28;01mif\u001b[39;00m \u001b[38;5;129;01mnot\u001b[39;00m packet:\n\u001b[1;32m     95\u001b[0m         \u001b[38;5;28;01mreturn\u001b[39;00m \u001b[38;5;28;01mNone\u001b[39;00m\n",
      "\u001b[0;31mKeyboardInterrupt\u001b[0m: "
     ]
    }
   ],
   "source": [
    "from distributed.learner import start_learner\n",
    "\n",
    "host = \"localhost\"\n",
    "port = 24000\n",
    "password = \"mtzw\"\n",
    "\n",
    "start_learner(host, port, password)"
   ]
  }
 ],
 "metadata": {
  "kernelspec": {
   "display_name": "geister_env",
   "language": "python",
   "name": "python3"
  },
  "language_info": {
   "codemirror_mode": {
    "name": "ipython",
    "version": 3
   },
   "file_extension": ".py",
   "mimetype": "text/x-python",
   "name": "python",
   "nbconvert_exporter": "python",
   "pygments_lexer": "ipython3",
   "version": "3.12.8"
  }
 },
 "nbformat": 4,
 "nbformat_minor": 2
}
